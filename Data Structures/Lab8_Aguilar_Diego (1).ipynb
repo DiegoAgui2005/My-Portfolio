{
  "cells": [
    {
      "cell_type": "markdown",
      "source": [
        "# Data Structures and Processing\n",
        "\n",
        "## Week 10: Time Series"
      ],
      "metadata": {
        "id": "9578795f-723e-46cc-b7f4-faed37e6858e"
      },
      "id": "9578795f-723e-46cc-b7f4-faed37e6858e"
    },
    {
      "cell_type": "markdown",
      "source": [
        "### Remarks:\n",
        "\n",
        "1. Install the libraries listed below using your package manager.  An example of installing the library `numpy` is to issue a the following command on a terminal (in Ubuntu) `python3 -m pip install numpy`.\n",
        "\n",
        "2. Make sure that you are following the conventions.  For examples, `import numpy as np`, which imports `numpy` packages and sets the abbreviation for it.\n",
        "\n",
        "3. Do not import the packages without the short names, unless it is intentional.  Doing so might lead to a namespace conflict, or unintended uses of functions coming from two libraries as a part of different implementations.\n",
        "\n",
        "4. We are assigning `None` to variables and use `pass` in the body of the functions, where we expect a solution from you.  Please replace these values and statements with your solution."
      ],
      "metadata": {
        "tags": [],
        "id": "e8b4d83d-aafa-4503-822b-25a9e318163f"
      },
      "id": "e8b4d83d-aafa-4503-822b-25a9e318163f"
    },
    {
      "cell_type": "markdown",
      "source": [
        "The exercises in this notebook are aligned with the material provided for the lecture."
      ],
      "metadata": {
        "id": "0c1d9d69-0a50-4804-93e5-113136c827ce"
      },
      "id": "0c1d9d69-0a50-4804-93e5-113136c827ce"
    },
    {
      "cell_type": "markdown",
      "source": [
        "### Load Libraries"
      ],
      "metadata": {
        "id": "b1aa9048-bfc7-4ee0-af22-fb0d78606569"
      },
      "id": "b1aa9048-bfc7-4ee0-af22-fb0d78606569"
    },
    {
      "cell_type": "code",
      "source": [
        "import numpy as np\n",
        "import pandas as pd\n",
        "import datetime as dtime"
      ],
      "outputs": [],
      "execution_count": 1,
      "metadata": {
        "id": "6102545d-db04-4d39-8fd0-1de6d3c28615"
      },
      "id": "6102545d-db04-4d39-8fd0-1de6d3c28615"
    },
    {
      "cell_type": "markdown",
      "source": [
        "## Task 1 - 1pt\n",
        "\n",
        "Consider a file `IBM.csv` attached to this notebook, which contains stocks since 2000 of IBM.  Import the data from the file as a pandas `DataFrame` into a variable `ts1`.  Since there is no mentioning of index, therefore, the default integer incremented index is associated.  Notice that one of the column is named `\"Date\"`.  We would like to use this as an index for `df1`.\n",
        "\n",
        "Your task is to use pandas builtin function to change the index of the above `DataFrame` named `df1`."
      ],
      "metadata": {
        "id": "bd5fe57f-673f-4ac8-b4a2-042ab0fa007d"
      },
      "id": "bd5fe57f-673f-4ac8-b4a2-042ab0fa007d"
    },
    {
      "cell_type": "code",
      "source": [
        "import pandas as pd\n",
        "\n",
        "ts1 = pd.read_csv(\"IBM.csv\")\n",
        "\n",
        "df1 = ts1.set_index(\"Date\")\n",
        "\n",
        "df1.head()"
      ],
      "outputs": [
        {
          "output_type": "error",
          "ename": "<class 'FileNotFoundError'>",
          "evalue": "[Errno 44] No such file or directory: 'IBM.csv'",
          "traceback": [
            "\u001b[0;31m---------------------------------------------------------------------------\u001b[0m",
            "\u001b[0;31mFileNotFoundError\u001b[0m                         Traceback (most recent call last)",
            "Cell \u001b[0;32mIn[3], line 3\u001b[0m\n\u001b[1;32m      1\u001b[0m \u001b[38;5;28;01mimport\u001b[39;00m \u001b[38;5;21;01mpandas\u001b[39;00m \u001b[38;5;28;01mas\u001b[39;00m \u001b[38;5;21;01mpd\u001b[39;00m\n\u001b[0;32m----> 3\u001b[0m ts1 \u001b[38;5;241m=\u001b[39m \u001b[43mpd\u001b[49m\u001b[38;5;241;43m.\u001b[39;49m\u001b[43mread_csv\u001b[49m\u001b[43m(\u001b[49m\u001b[38;5;124;43m\"\u001b[39;49m\u001b[38;5;124;43mIBM.csv\u001b[39;49m\u001b[38;5;124;43m\"\u001b[39;49m\u001b[43m)\u001b[49m\n\u001b[1;32m      5\u001b[0m df1 \u001b[38;5;241m=\u001b[39m ts1\u001b[38;5;241m.\u001b[39mset_index(\u001b[38;5;124m\"\u001b[39m\u001b[38;5;124mDate\u001b[39m\u001b[38;5;124m\"\u001b[39m)\n\u001b[1;32m      7\u001b[0m df1\u001b[38;5;241m.\u001b[39mhead()\n",
            "File \u001b[0;32m/lib/python3.10/site-packages/pandas/util/_decorators.py:311\u001b[0m, in \u001b[0;36mdeprecate_nonkeyword_arguments.<locals>.decorate.<locals>.wrapper\u001b[0;34m(*args, **kwargs)\u001b[0m\n\u001b[1;32m    305\u001b[0m \u001b[38;5;28;01mif\u001b[39;00m \u001b[38;5;28mlen\u001b[39m(args) \u001b[38;5;241m>\u001b[39m num_allow_args:\n\u001b[1;32m    306\u001b[0m     warnings\u001b[38;5;241m.\u001b[39mwarn(\n\u001b[1;32m    307\u001b[0m         msg\u001b[38;5;241m.\u001b[39mformat(arguments\u001b[38;5;241m=\u001b[39marguments),\n\u001b[1;32m    308\u001b[0m         \u001b[38;5;167;01mFutureWarning\u001b[39;00m,\n\u001b[1;32m    309\u001b[0m         stacklevel\u001b[38;5;241m=\u001b[39mstacklevel,\n\u001b[1;32m    310\u001b[0m     )\n\u001b[0;32m--> 311\u001b[0m \u001b[38;5;28;01mreturn\u001b[39;00m func(\u001b[38;5;241m*\u001b[39margs, \u001b[38;5;241m*\u001b[39m\u001b[38;5;241m*\u001b[39mkwargs)\n",
            "File \u001b[0;32m/lib/python3.10/site-packages/pandas/io/parsers/readers.py:680\u001b[0m, in \u001b[0;36mread_csv\u001b[0;34m(filepath_or_buffer, sep, delimiter, header, names, index_col, usecols, squeeze, prefix, mangle_dupe_cols, dtype, engine, converters, true_values, false_values, skipinitialspace, skiprows, skipfooter, nrows, na_values, keep_default_na, na_filter, verbose, skip_blank_lines, parse_dates, infer_datetime_format, keep_date_col, date_parser, dayfirst, cache_dates, iterator, chunksize, compression, thousands, decimal, lineterminator, quotechar, quoting, doublequote, escapechar, comment, encoding, encoding_errors, dialect, error_bad_lines, warn_bad_lines, on_bad_lines, delim_whitespace, low_memory, memory_map, float_precision, storage_options)\u001b[0m\n\u001b[1;32m    665\u001b[0m kwds_defaults \u001b[38;5;241m=\u001b[39m _refine_defaults_read(\n\u001b[1;32m    666\u001b[0m     dialect,\n\u001b[1;32m    667\u001b[0m     delimiter,\n\u001b[0;32m   (...)\u001b[0m\n\u001b[1;32m    676\u001b[0m     defaults\u001b[38;5;241m=\u001b[39m{\u001b[38;5;124m\"\u001b[39m\u001b[38;5;124mdelimiter\u001b[39m\u001b[38;5;124m\"\u001b[39m: \u001b[38;5;124m\"\u001b[39m\u001b[38;5;124m,\u001b[39m\u001b[38;5;124m\"\u001b[39m},\n\u001b[1;32m    677\u001b[0m )\n\u001b[1;32m    678\u001b[0m kwds\u001b[38;5;241m.\u001b[39mupdate(kwds_defaults)\n\u001b[0;32m--> 680\u001b[0m \u001b[38;5;28;01mreturn\u001b[39;00m \u001b[43m_read\u001b[49m\u001b[43m(\u001b[49m\u001b[43mfilepath_or_buffer\u001b[49m\u001b[43m,\u001b[49m\u001b[43m \u001b[49m\u001b[43mkwds\u001b[49m\u001b[43m)\u001b[49m\n",
            "File \u001b[0;32m/lib/python3.10/site-packages/pandas/io/parsers/readers.py:575\u001b[0m, in \u001b[0;36m_read\u001b[0;34m(filepath_or_buffer, kwds)\u001b[0m\n\u001b[1;32m    572\u001b[0m _validate_names(kwds\u001b[38;5;241m.\u001b[39mget(\u001b[38;5;124m\"\u001b[39m\u001b[38;5;124mnames\u001b[39m\u001b[38;5;124m\"\u001b[39m, \u001b[38;5;28;01mNone\u001b[39;00m))\n\u001b[1;32m    574\u001b[0m \u001b[38;5;66;03m# Create the parser.\u001b[39;00m\n\u001b[0;32m--> 575\u001b[0m parser \u001b[38;5;241m=\u001b[39m TextFileReader(filepath_or_buffer, \u001b[38;5;241m*\u001b[39m\u001b[38;5;241m*\u001b[39mkwds)\n\u001b[1;32m    577\u001b[0m \u001b[38;5;28;01mif\u001b[39;00m chunksize \u001b[38;5;129;01mor\u001b[39;00m iterator:\n\u001b[1;32m    578\u001b[0m     \u001b[38;5;28;01mreturn\u001b[39;00m parser\n",
            "File \u001b[0;32m/lib/python3.10/site-packages/pandas/io/parsers/readers.py:933\u001b[0m, in \u001b[0;36mTextFileReader.__init__\u001b[0;34m(self, f, engine, **kwds)\u001b[0m\n\u001b[1;32m    930\u001b[0m     \u001b[38;5;28mself\u001b[39m\u001b[38;5;241m.\u001b[39moptions[\u001b[38;5;124m\"\u001b[39m\u001b[38;5;124mhas_index_names\u001b[39m\u001b[38;5;124m\"\u001b[39m] \u001b[38;5;241m=\u001b[39m kwds[\u001b[38;5;124m\"\u001b[39m\u001b[38;5;124mhas_index_names\u001b[39m\u001b[38;5;124m\"\u001b[39m]\n\u001b[1;32m    932\u001b[0m \u001b[38;5;28mself\u001b[39m\u001b[38;5;241m.\u001b[39mhandles: IOHandles \u001b[38;5;241m|\u001b[39m \u001b[38;5;28;01mNone\u001b[39;00m \u001b[38;5;241m=\u001b[39m \u001b[38;5;28;01mNone\u001b[39;00m\n\u001b[0;32m--> 933\u001b[0m \u001b[38;5;28mself\u001b[39m\u001b[38;5;241m.\u001b[39m_engine \u001b[38;5;241m=\u001b[39m \u001b[38;5;28;43mself\u001b[39;49m\u001b[38;5;241;43m.\u001b[39;49m\u001b[43m_make_engine\u001b[49m\u001b[43m(\u001b[49m\u001b[43mf\u001b[49m\u001b[43m,\u001b[49m\u001b[43m \u001b[49m\u001b[38;5;28;43mself\u001b[39;49m\u001b[38;5;241;43m.\u001b[39;49m\u001b[43mengine\u001b[49m\u001b[43m)\u001b[49m\n",
            "File \u001b[0;32m/lib/python3.10/site-packages/pandas/io/parsers/readers.py:1217\u001b[0m, in \u001b[0;36mTextFileReader._make_engine\u001b[0;34m(self, f, engine)\u001b[0m\n\u001b[1;32m   1213\u001b[0m     mode \u001b[38;5;241m=\u001b[39m \u001b[38;5;124m\"\u001b[39m\u001b[38;5;124mrb\u001b[39m\u001b[38;5;124m\"\u001b[39m\n\u001b[1;32m   1214\u001b[0m \u001b[38;5;66;03m# error: No overload variant of \"get_handle\" matches argument types\u001b[39;00m\n\u001b[1;32m   1215\u001b[0m \u001b[38;5;66;03m# \"Union[str, PathLike[str], ReadCsvBuffer[bytes], ReadCsvBuffer[str]]\"\u001b[39;00m\n\u001b[1;32m   1216\u001b[0m \u001b[38;5;66;03m# , \"str\", \"bool\", \"Any\", \"Any\", \"Any\", \"Any\", \"Any\"\u001b[39;00m\n\u001b[0;32m-> 1217\u001b[0m \u001b[38;5;28mself\u001b[39m\u001b[38;5;241m.\u001b[39mhandles \u001b[38;5;241m=\u001b[39m \u001b[43mget_handle\u001b[49m\u001b[43m(\u001b[49m\u001b[43m  \u001b[49m\u001b[38;5;66;43;03m# type: ignore[call-overload]\u001b[39;49;00m\n\u001b[1;32m   1218\u001b[0m \u001b[43m    \u001b[49m\u001b[43mf\u001b[49m\u001b[43m,\u001b[49m\n\u001b[1;32m   1219\u001b[0m \u001b[43m    \u001b[49m\u001b[43mmode\u001b[49m\u001b[43m,\u001b[49m\n\u001b[1;32m   1220\u001b[0m \u001b[43m    \u001b[49m\u001b[43mencoding\u001b[49m\u001b[38;5;241;43m=\u001b[39;49m\u001b[38;5;28;43mself\u001b[39;49m\u001b[38;5;241;43m.\u001b[39;49m\u001b[43moptions\u001b[49m\u001b[38;5;241;43m.\u001b[39;49m\u001b[43mget\u001b[49m\u001b[43m(\u001b[49m\u001b[38;5;124;43m\"\u001b[39;49m\u001b[38;5;124;43mencoding\u001b[39;49m\u001b[38;5;124;43m\"\u001b[39;49m\u001b[43m,\u001b[49m\u001b[43m \u001b[49m\u001b[38;5;28;43;01mNone\u001b[39;49;00m\u001b[43m)\u001b[49m\u001b[43m,\u001b[49m\n\u001b[1;32m   1221\u001b[0m \u001b[43m    \u001b[49m\u001b[43mcompression\u001b[49m\u001b[38;5;241;43m=\u001b[39;49m\u001b[38;5;28;43mself\u001b[39;49m\u001b[38;5;241;43m.\u001b[39;49m\u001b[43moptions\u001b[49m\u001b[38;5;241;43m.\u001b[39;49m\u001b[43mget\u001b[49m\u001b[43m(\u001b[49m\u001b[38;5;124;43m\"\u001b[39;49m\u001b[38;5;124;43mcompression\u001b[39;49m\u001b[38;5;124;43m\"\u001b[39;49m\u001b[43m,\u001b[49m\u001b[43m \u001b[49m\u001b[38;5;28;43;01mNone\u001b[39;49;00m\u001b[43m)\u001b[49m\u001b[43m,\u001b[49m\n\u001b[1;32m   1222\u001b[0m \u001b[43m    \u001b[49m\u001b[43mmemory_map\u001b[49m\u001b[38;5;241;43m=\u001b[39;49m\u001b[38;5;28;43mself\u001b[39;49m\u001b[38;5;241;43m.\u001b[39;49m\u001b[43moptions\u001b[49m\u001b[38;5;241;43m.\u001b[39;49m\u001b[43mget\u001b[49m\u001b[43m(\u001b[49m\u001b[38;5;124;43m\"\u001b[39;49m\u001b[38;5;124;43mmemory_map\u001b[39;49m\u001b[38;5;124;43m\"\u001b[39;49m\u001b[43m,\u001b[49m\u001b[43m \u001b[49m\u001b[38;5;28;43;01mFalse\u001b[39;49;00m\u001b[43m)\u001b[49m\u001b[43m,\u001b[49m\n\u001b[1;32m   1223\u001b[0m \u001b[43m    \u001b[49m\u001b[43mis_text\u001b[49m\u001b[38;5;241;43m=\u001b[39;49m\u001b[43mis_text\u001b[49m\u001b[43m,\u001b[49m\n\u001b[1;32m   1224\u001b[0m \u001b[43m    \u001b[49m\u001b[43merrors\u001b[49m\u001b[38;5;241;43m=\u001b[39;49m\u001b[38;5;28;43mself\u001b[39;49m\u001b[38;5;241;43m.\u001b[39;49m\u001b[43moptions\u001b[49m\u001b[38;5;241;43m.\u001b[39;49m\u001b[43mget\u001b[49m\u001b[43m(\u001b[49m\u001b[38;5;124;43m\"\u001b[39;49m\u001b[38;5;124;43mencoding_errors\u001b[39;49m\u001b[38;5;124;43m\"\u001b[39;49m\u001b[43m,\u001b[49m\u001b[43m \u001b[49m\u001b[38;5;124;43m\"\u001b[39;49m\u001b[38;5;124;43mstrict\u001b[39;49m\u001b[38;5;124;43m\"\u001b[39;49m\u001b[43m)\u001b[49m\u001b[43m,\u001b[49m\n\u001b[1;32m   1225\u001b[0m \u001b[43m    \u001b[49m\u001b[43mstorage_options\u001b[49m\u001b[38;5;241;43m=\u001b[39;49m\u001b[38;5;28;43mself\u001b[39;49m\u001b[38;5;241;43m.\u001b[39;49m\u001b[43moptions\u001b[49m\u001b[38;5;241;43m.\u001b[39;49m\u001b[43mget\u001b[49m\u001b[43m(\u001b[49m\u001b[38;5;124;43m\"\u001b[39;49m\u001b[38;5;124;43mstorage_options\u001b[39;49m\u001b[38;5;124;43m\"\u001b[39;49m\u001b[43m,\u001b[49m\u001b[43m \u001b[49m\u001b[38;5;28;43;01mNone\u001b[39;49;00m\u001b[43m)\u001b[49m\u001b[43m,\u001b[49m\n\u001b[1;32m   1226\u001b[0m \u001b[43m\u001b[49m\u001b[43m)\u001b[49m\n\u001b[1;32m   1227\u001b[0m \u001b[38;5;28;01massert\u001b[39;00m \u001b[38;5;28mself\u001b[39m\u001b[38;5;241m.\u001b[39mhandles \u001b[38;5;129;01mis\u001b[39;00m \u001b[38;5;129;01mnot\u001b[39;00m \u001b[38;5;28;01mNone\u001b[39;00m\n\u001b[1;32m   1228\u001b[0m f \u001b[38;5;241m=\u001b[39m \u001b[38;5;28mself\u001b[39m\u001b[38;5;241m.\u001b[39mhandles\u001b[38;5;241m.\u001b[39mhandle\n",
            "File \u001b[0;32m/lib/python3.10/site-packages/pandas/io/common.py:789\u001b[0m, in \u001b[0;36mget_handle\u001b[0;34m(path_or_buf, mode, encoding, compression, memory_map, is_text, errors, storage_options)\u001b[0m\n\u001b[1;32m    784\u001b[0m \u001b[38;5;28;01melif\u001b[39;00m \u001b[38;5;28misinstance\u001b[39m(handle, \u001b[38;5;28mstr\u001b[39m):\n\u001b[1;32m    785\u001b[0m     \u001b[38;5;66;03m# Check whether the filename is to be opened in binary mode.\u001b[39;00m\n\u001b[1;32m    786\u001b[0m     \u001b[38;5;66;03m# Binary mode does not support 'encoding' and 'newline'.\u001b[39;00m\n\u001b[1;32m    787\u001b[0m     \u001b[38;5;28;01mif\u001b[39;00m ioargs\u001b[38;5;241m.\u001b[39mencoding \u001b[38;5;129;01mand\u001b[39;00m \u001b[38;5;124m\"\u001b[39m\u001b[38;5;124mb\u001b[39m\u001b[38;5;124m\"\u001b[39m \u001b[38;5;129;01mnot\u001b[39;00m \u001b[38;5;129;01min\u001b[39;00m ioargs\u001b[38;5;241m.\u001b[39mmode:\n\u001b[1;32m    788\u001b[0m         \u001b[38;5;66;03m# Encoding\u001b[39;00m\n\u001b[0;32m--> 789\u001b[0m         handle \u001b[38;5;241m=\u001b[39m \u001b[38;5;28;43mopen\u001b[39;49m\u001b[43m(\u001b[49m\n\u001b[1;32m    790\u001b[0m \u001b[43m            \u001b[49m\u001b[43mhandle\u001b[49m\u001b[43m,\u001b[49m\n\u001b[1;32m    791\u001b[0m \u001b[43m            \u001b[49m\u001b[43mioargs\u001b[49m\u001b[38;5;241;43m.\u001b[39;49m\u001b[43mmode\u001b[49m\u001b[43m,\u001b[49m\n\u001b[1;32m    792\u001b[0m \u001b[43m            \u001b[49m\u001b[43mencoding\u001b[49m\u001b[38;5;241;43m=\u001b[39;49m\u001b[43mioargs\u001b[49m\u001b[38;5;241;43m.\u001b[39;49m\u001b[43mencoding\u001b[49m\u001b[43m,\u001b[49m\n\u001b[1;32m    793\u001b[0m \u001b[43m            \u001b[49m\u001b[43merrors\u001b[49m\u001b[38;5;241;43m=\u001b[39;49m\u001b[43merrors\u001b[49m\u001b[43m,\u001b[49m\n\u001b[1;32m    794\u001b[0m \u001b[43m            \u001b[49m\u001b[43mnewline\u001b[49m\u001b[38;5;241;43m=\u001b[39;49m\u001b[38;5;124;43m\"\u001b[39;49m\u001b[38;5;124;43m\"\u001b[39;49m\u001b[43m,\u001b[49m\n\u001b[1;32m    795\u001b[0m \u001b[43m        \u001b[49m\u001b[43m)\u001b[49m\n\u001b[1;32m    796\u001b[0m     \u001b[38;5;28;01melse\u001b[39;00m:\n\u001b[1;32m    797\u001b[0m         \u001b[38;5;66;03m# Binary mode\u001b[39;00m\n\u001b[1;32m    798\u001b[0m         handle \u001b[38;5;241m=\u001b[39m \u001b[38;5;28mopen\u001b[39m(handle, ioargs\u001b[38;5;241m.\u001b[39mmode)\n",
            "\u001b[0;31mFileNotFoundError\u001b[0m: [Errno 44] No such file or directory: 'IBM.csv'"
          ]
        }
      ],
      "execution_count": 2,
      "metadata": {
        "colab": {
          "base_uri": "https://localhost:8080/",
          "height": 341
        },
        "id": "a3dee259-847e-4c19-9d12-c3dba6a00565",
        "outputId": "2f6ccd92-35a3-4735-b260-6c8ab0528f47"
      },
      "id": "a3dee259-847e-4c19-9d12-c3dba6a00565"
    },
    {
      "cell_type": "markdown",
      "source": [
        "## Task 2 - 1pt\n",
        "\n",
        "Reconsider the `DataFrame` named `df1` from Task 1 above.\n",
        "\n",
        "Your task is to write down a function `average_until_months_end` that takes three arguments:\n",
        "\n",
        "1. `df` a pandas `DataFrame` (for example, `df1`, as defined above)\n",
        "2. `ts` a string containing a timestamp.\n",
        "3. `col` as a column name.\n",
        "\n",
        "and it returns the mean value along the column `col` with the range of time starting from the timestamp `ts` until the end of the month.\n"
      ],
      "metadata": {
        "id": "7c6b4935-6fd9-46cd-9fc8-793122a8b091"
      },
      "id": "7c6b4935-6fd9-46cd-9fc8-793122a8b091"
    },
    {
      "cell_type": "code",
      "source": [
        "import pandas as pd\n",
        "from pandas.tseries.offsets import MonthEnd\n",
        "\n",
        "def average_until_months_end(df, ts, col):\n",
        "    ts_dt = pd.to_datetime(ts)\n",
        "\n",
        "    end_of_month = ts_dt + MonthEnd(0)\n",
        "\n",
        "    mask = (df.index >= ts_dt) & (df.index <= end_of_month)\n",
        "\n",
        "    return df.loc[mask, col].mean()"
      ],
      "outputs": [],
      "execution_count": null,
      "metadata": {
        "id": "e570f2cf-76f3-40a7-8e35-682af72c75c6"
      },
      "id": "e570f2cf-76f3-40a7-8e35-682af72c75c6"
    },
    {
      "cell_type": "markdown",
      "source": [
        "## Task 3 - 1 pt\n",
        "\n",
        "Write down a function `change_in_month` that takes three arguments:\n",
        "\n",
        "1. `df`, the `DataFrame`,\n",
        "2. `\"col\"`, the column name for consideration,\n",
        "3. `\"date\"`, date as a string of the form \"YYYY-mm-dd\" or \"YYYY/mm/dd\".\n",
        "\n",
        "that returns the difference of the values at the beginning and at the end of a particular month."
      ],
      "metadata": {
        "id": "3d53097c-b8b3-4a0f-8ff2-fae4a5b1376c"
      },
      "id": "3d53097c-b8b3-4a0f-8ff2-fae4a5b1376c"
    },
    {
      "cell_type": "code",
      "source": [
        "import pandas as pd\n",
        "from pandas.tseries.offsets import MonthEnd\n",
        "def change_in_month(df, col, date):\n",
        "  date_dt = pd.to_datetime(date)\n",
        "\n",
        "  start_month = date_dt - MonthBegin(1) + MonthBegin(1)\n",
        "  end_month = start_month + MonthEnd(0)\n",
        "\n",
        "  start_value = df.loc[start_month, col]\n",
        "  end_value = df.loc[end_month, col]\n",
        "\n",
        "  return end_value - start_value"
      ],
      "outputs": [],
      "execution_count": null,
      "metadata": {
        "id": "5064a366-fbae-4824-896c-7c21faea3bd1"
      },
      "id": "5064a366-fbae-4824-896c-7c21faea3bd1"
    },
    {
      "cell_type": "markdown",
      "source": [
        "## Task 4 - 1 pt\n",
        "\n",
        "The file `IBM.csv` has down-sampled data in it, where each record has a daily report of the `open`, `high`, `low` and `close` and other entries.\n",
        "\n",
        "Your task is to down-sample the column `\"Open\"` to yearly periods reporting its `ohlc`.  Finally, plot the values for `open` and `close`."
      ],
      "metadata": {
        "id": "f5308c25-9a19-44ef-9596-17f3a00d2811"
      },
      "id": "f5308c25-9a19-44ef-9596-17f3a00d2811"
    },
    {
      "cell_type": "code",
      "source": [
        "import pandas as pd\n",
        "import matplotlib.pyplot as plt\n",
        "\n",
        "df1.index = pd.to_datetime(df1.index)\n",
        "\n",
        "open_yearly_ohlc = df1[\"Open\"].resample(\"Y\").ohlc()\n",
        "\n",
        "close_yearly = df1[\"Close\"].resample(\"Y\").last()\n",
        "\n",
        "plt.figure(figsize=(10,5))\n",
        "plt.plot(open_yearly_ohlc[\"open\"], label=\"Open\")\n",
        "plt.plot(close_yearly, label=\"Close\")\n",
        "plt.title(\"Yearly Open and Close Prices\")\n",
        "plt.xlabel(\"Year\")\n",
        "plt.ylabel(\"Price\")\n",
        "plt.legend()\n",
        "plt.grid(True)\n",
        "plt.show()"
      ],
      "outputs": [],
      "execution_count": null,
      "metadata": {
        "colab": {
          "base_uri": "https://localhost:8080/",
          "height": 454
        },
        "id": "2f035195-2e76-443d-890c-5028085e2433",
        "outputId": "1497e294-ef88-4113-c861-da66c1b6064f"
      },
      "id": "2f035195-2e76-443d-890c-5028085e2433"
    },
    {
      "cell_type": "markdown",
      "source": [
        "## Task 5 - 1 pt\n",
        "\n",
        "Reconsider the `IBM.csv` file containing the IBM stocks values/day.  Consider a window of 1000 days and plot mean values."
      ],
      "metadata": {
        "id": "ed1746ac-37a4-4d15-9362-082c588f2071"
      },
      "id": "ed1746ac-37a4-4d15-9362-082c588f2071"
    },
    {
      "cell_type": "code",
      "source": [
        "import matplotlib.pyplot as plt\n",
        "\n",
        "rolling_mean = df1[\"Open\"].rolling(window=1000).mean()\n",
        "\n",
        "plt.figure(figsize=(10,5))\n",
        "plt.plot(df1[\"Open\"], label = \"Actual Open\", alpha = 0.5)\n",
        "plt.plot(rolling_mean, label = \"1000-day Rolling Mean\", color = \"red\")\n",
        "plt.title(\"IBM Stock - 1000 Day Rolling Mean\")\n",
        "plt.xlabel(\"Date\")\n",
        "plt.ylabel(\"Price\")\n",
        "plt.legend()\n",
        "plt.grid(True)\n",
        "plt.show()"
      ],
      "outputs": [],
      "execution_count": null,
      "metadata": {
        "colab": {
          "base_uri": "https://localhost:8080/",
          "height": 365
        },
        "id": "7acb6664-a40f-40dc-bcac-c66d35108c00",
        "outputId": "b3c95a8e-2abb-4aba-d89e-8b198320f558"
      },
      "id": "7acb6664-a40f-40dc-bcac-c66d35108c00"
    },
    {
      "cell_type": "code",
      "source": [],
      "outputs": [],
      "execution_count": null,
      "metadata": {
        "id": "2627a750"
      },
      "id": "2627a750"
    },
    {
      "cell_type": "markdown",
      "source": [
        "## Task 6 - 2pt\n",
        "\n",
        "Reconsider the `IBM.csv` file containing the IBM stocks.  Consider a smoothing factor `alpha=0.01`, and plot the `ewm` average for the column `\"Open\"`, and the actual values in that column."
      ],
      "metadata": {
        "id": "6354022d-de82-49a1-9bda-ac248af66c20"
      },
      "id": "6354022d-de82-49a1-9bda-ac248af66c20"
    },
    {
      "cell_type": "code",
      "source": [
        "ewm_mean = df1[\"Open\"].ewm(alpha=0.01).mean()\n",
        "\n",
        "plt.figure(figsize=(10,5))\n",
        "plt.plot(df1[\"Open\"], label = \"Actual Open\", alpha = 0.5)\n",
        "plt.plot(ewm_mean, label = \"EWMA (alpha=0.01)\", color = \"red\")\n",
        "plt.title(\"IBM Stock - EWMA (alpha=0.01)\")\n",
        "plt.xlabel(\"Date\")\n",
        "plt.ylabel(\"Price\")\n",
        "plt.legend()\n",
        "plt.grid(True)\n",
        "plt.show()"
      ],
      "outputs": [],
      "execution_count": null,
      "metadata": {
        "colab": {
          "base_uri": "https://localhost:8080/",
          "height": 365
        },
        "id": "cdee270c-b615-42d1-928b-6d1cab304337",
        "outputId": "24b5fcd6-d77b-4bb3-ed16-9956153997cc"
      },
      "id": "cdee270c-b615-42d1-928b-6d1cab304337"
    },
    {
      "cell_type": "markdown",
      "source": [
        "## Task 7 - 3pt\n",
        "\n",
        "Using the stock data for IBM and Apple (AAPL), plot the stock price trends between 2007-12-11 and 2008-10-13.\n",
        "\n",
        "1) Load the stock data from the provided IBM.csv and AAPL.csv files.\n",
        "\n",
        "2) Filter the data to only include entries between 2007-12-11 and 2008-10-13.\n",
        "\n",
        "3) Plot the closing prices of both IBM and AAPL over time on the same graph.\n"
      ],
      "metadata": {
        "id": "325b69cc"
      },
      "id": "325b69cc"
    },
    {
      "cell_type": "code",
      "source": [
        "import pandas as pd\n",
        "import matplotlib.pyplot as plt"
      ],
      "outputs": [],
      "execution_count": null,
      "metadata": {
        "id": "f6bda1bb"
      },
      "id": "f6bda1bb"
    },
    {
      "cell_type": "code",
      "source": [
        "import pandas as pd\n",
        "import matplotlib.pyplot as plt\n",
        "\n",
        "ibm = pd.read_csv(\"IBM.csv\", parse_dates=[\"Date\"], index_col=\"Date\")\n",
        "aapl = pd.read_csv(\"AAPL.csv\", parse_dates=[\"Date\"], index_col=\"Date\")\n",
        "\n",
        "ibm = ibm.sort_index()\n",
        "aapl = aapl.sort_index()\n",
        "\n",
        "start_date = \"2007-12-11\"\n",
        "end_date = \"2008-10-13\"\n",
        "\n",
        "ibm_filtered = ibm.loc[start_date:end_date]\n",
        "aapl_filtered = aapl.loc[start_date:end_date]\n",
        "\n",
        "plt.figure(figsize=(10,5))\n",
        "plt.plot(ibm_filtered[\"Close\"], label=\"IBM Close\")\n",
        "plt.plot(aapl_filtered[\"Close\"], label=\"AAPL Close\")\n",
        "plt.title(\"Stock Prices: IBM vs AAPL (2007-12-11 to 2008-10-13)\")\n",
        "plt.xlabel(\"Date\")\n",
        "plt.ylabel(\"Closing Price\")\n",
        "plt.legend()\n",
        "plt.grid(True)\n",
        "plt.show()\n"
      ],
      "outputs": [],
      "execution_count": null,
      "metadata": {
        "colab": {
          "base_uri": "https://localhost:8080/",
          "height": 365
        },
        "id": "qavKWpnC8CUu",
        "outputId": "602dc35e-3f3f-4838-f2eb-b43832979e1c"
      },
      "id": "qavKWpnC8CUu"
    },
    {
      "cell_type": "code",
      "source": [],
      "outputs": [],
      "execution_count": null,
      "metadata": {
        "id": "SIY_Zl6N859Y"
      },
      "id": "SIY_Zl6N859Y"
    }
  ],
  "metadata": {
    "kernelspec": {
      "name": "python",
      "language": "python",
      "display_name": "Pyolite (preview)"
    },
    "language_info": {
      "codemirror_mode": {
        "name": "python",
        "version": 3
      },
      "file_extension": ".py",
      "mimetype": "text/x-python",
      "name": "python",
      "nbconvert_exporter": "python",
      "pygments_lexer": "ipython3",
      "version": "3.8"
    },
    "name": "week8.ipynb",
    "colab": {
      "provenance": [],
      "name": "Lab8_Aguilar_Diego"
    },
    "kernel_info": {
      "name": "python"
    },
    "nteract": {
      "version": "nteract-front-end@1.0.0"
    }
  },
  "nbformat": 4,
  "nbformat_minor": 5
}