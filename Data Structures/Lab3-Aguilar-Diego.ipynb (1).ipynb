{
  "cells": [
    {
      "cell_type": "markdown",
      "id": "f1770525-f461-4d8b-9200-ba707bcccd87",
      "metadata": {
        "id": "f1770525-f461-4d8b-9200-ba707bcccd87",
        "nbgrader": {
          "grade": false,
          "grade_id": "cell-d9ace51bb79aa123",
          "locked": true,
          "schema_version": 3,
          "solution": false,
          "task": false
        }
      },
      "source": [
        "# Data Structures and Processing\n",
        "\n",
        "## Week3: NumPy, and Matplotlib"
      ]
    },
    {
      "cell_type": "code",
      "execution_count": 63,
      "id": "5f3b42ad",
      "metadata": {
        "id": "5f3b42ad"
      },
      "outputs": [],
      "source": [
        "import numpy as np\n",
        "from typing import Union"
      ]
    },
    {
      "cell_type": "markdown",
      "id": "90cf316f-4a2c-4a03-ad4f-9fe3a5580fa4",
      "metadata": {
        "id": "90cf316f-4a2c-4a03-ad4f-9fe3a5580fa4",
        "nbgrader": {
          "grade": false,
          "grade_id": "cell-064e3f15836bd7ff",
          "locked": true,
          "schema_version": 3,
          "solution": false,
          "task": false
        },
        "tags": []
      },
      "source": [
        "### Task 1 (0.5 pts): Custom NumPy Functions\n",
        "\n",
        "Write down a function `heaviside` which takes a number (`int` or `float`) and returns 1 if it is positive, 0 otherwise."
      ]
    },
    {
      "cell_type": "code",
      "execution_count": null,
      "id": "rPfOtCl8fy7-",
      "metadata": {
        "colab": {
          "base_uri": "https://localhost:8080/"
        },
        "id": "rPfOtCl8fy7-",
        "outputId": "f66deae9-a119-4148-c586-124136b35af9"
      },
      "outputs": [
        {
          "ename": "ModuleNotFoundError",
          "evalue": "No module named 'google.colab'",
          "output_type": "error",
          "traceback": [
            "\u001b[1;31m---------------------------------------------------------------------------\u001b[0m",
            "\u001b[1;31mModuleNotFoundError\u001b[0m                       Traceback (most recent call last)",
            "Cell \u001b[1;32mIn[1], line 1\u001b[0m\n\u001b[1;32m----> 1\u001b[0m \u001b[38;5;28;01mfrom\u001b[39;00m \u001b[38;5;21;01mgoogle\u001b[39;00m\u001b[38;5;21;01m.\u001b[39;00m\u001b[38;5;21;01mcolab\u001b[39;00m \u001b[38;5;28;01mimport\u001b[39;00m drive\n\u001b[0;32m      2\u001b[0m drive\u001b[38;5;241m.\u001b[39mmount(\u001b[38;5;124m\"\u001b[39m\u001b[38;5;124m/content/drive\u001b[39m\u001b[38;5;124m\"\u001b[39m)\n",
            "\u001b[1;31mModuleNotFoundError\u001b[0m: No module named 'google.colab'"
          ]
        }
      ],
      "source": [
        "from google.colab import drive # type: ignore\n",
        "drive.mount(\"/content/drive\")"
      ]
    },
    {
      "cell_type": "code",
      "execution_count": 13,
      "id": "a1960b19-48ff-4c7b-8ada-c8b090c77f81",
      "metadata": {
        "id": "a1960b19-48ff-4c7b-8ada-c8b090c77f81",
        "nbgrader": {
          "grade": false,
          "grade_id": "cell-5cb06a6dd536e09a",
          "locked": false,
          "schema_version": 3,
          "solution": true,
          "task": false
        },
        "tags": []
      },
      "outputs": [],
      "source": [
        "def heaviside(num: Union[int, float, np.ndarray]):\n",
        "    return 1 if num > 0 else 0\n",
        "    pass"
      ]
    },
    {
      "cell_type": "code",
      "execution_count": 14,
      "id": "896dbcf1-b90a-4125-aef5-d63299ff0638",
      "metadata": {
        "id": "896dbcf1-b90a-4125-aef5-d63299ff0638",
        "nbgrader": {
          "grade": true,
          "grade_id": "cell-1aaea127bbe9a155",
          "locked": true,
          "points": 0,
          "schema_version": 3,
          "solution": false,
          "task": false
        }
      },
      "outputs": [],
      "source": [
        "assert heaviside(0.1) == 1\n",
        "assert heaviside(-0.1) == 0\n",
        "assert heaviside(0) == 0\n",
        "assert heaviside(4) == 1"
      ]
    },
    {
      "cell_type": "code",
      "execution_count": 62,
      "id": "lR2zrWR6kdm-",
      "metadata": {
        "id": "lR2zrWR6kdm-"
      },
      "outputs": [],
      "source": [
        "assert np.all(heaviside(np.array([-1.2,0.2,3])) == np.array([0,1,1]))"
      ]
    },
    {
      "cell_type": "markdown",
      "id": "ac84984d-02bb-464d-bfec-8d6877fd2b02",
      "metadata": {
        "id": "ac84984d-02bb-464d-bfec-8d6877fd2b02"
      },
      "source": [
        "At this point, your function `heaviside` will return a `ValueError` if a NumPy array is provided as an input to it.  We would like to extend this function so that it handles any `ndarray` whose dtype is `int` or `float`.\n",
        "\n",
        "### Task 2 (1 pts)\n",
        "\n",
        "Extend the `heaviside` function to handle the `ndarray`."
      ]
    },
    {
      "cell_type": "code",
      "execution_count": 19,
      "id": "fd57f71b-38f0-4399-a849-3abe6d930d7f",
      "metadata": {
        "id": "fd57f71b-38f0-4399-a849-3abe6d930d7f",
        "nbgrader": {
          "grade": false,
          "grade_id": "cell-b1fe8aefbdc9898f",
          "locked": false,
          "schema_version": 3,
          "solution": true,
          "task": false
        }
      },
      "outputs": [],
      "source": [
        "# Your solution to extend the heaviside function to handle `ndarray` goes here.\n",
        "def heaviside(num: Union[int, float, np.ndarray]):\n",
        "  return np.where(num > 0,1,0)\n"
      ]
    },
    {
      "cell_type": "code",
      "execution_count": 20,
      "id": "a0db35cd-4d4f-4692-900c-89ab411e9d37",
      "metadata": {
        "id": "a0db35cd-4d4f-4692-900c-89ab411e9d37",
        "nbgrader": {
          "grade": true,
          "grade_id": "cell-c9085a23523dcd7c",
          "locked": true,
          "points": 0,
          "schema_version": 3,
          "solution": false,
          "task": false
        }
      },
      "outputs": [],
      "source": [
        "assert np.all(heaviside(np.array([-1.2, 0.2, 3])) == np.array([0, 1, 1]))"
      ]
    },
    {
      "cell_type": "markdown",
      "id": "92739acd-09c1-464f-8110-89506e9d9879",
      "metadata": {
        "id": "92739acd-09c1-464f-8110-89506e9d9879",
        "nbgrader": {
          "grade": false,
          "grade_id": "cell-111f49e077636c29",
          "locked": true,
          "schema_version": 3,
          "solution": false,
          "task": false
        }
      },
      "source": [
        "### Task 3 (0.5 pts): Aggregate Functions\n",
        "\n",
        "There are a lot of aggregate functions available in NumPy. Some of the variable useful ones include: `np.sum`, `np.mean`, `np.std`, `np.max`, `np.min` and so on.  For a detailed explanation of the parameters these function take in, have a look at their documentation using `help`.\n",
        "\n",
        "Write down a function `mean_squared_values` that takes an `ndarray` as an argument and returns the mean value of the squares of elements in it."
      ]
    },
    {
      "cell_type": "code",
      "execution_count": 21,
      "id": "ed8c96c9-188a-44cd-b830-e41b43a402a9",
      "metadata": {
        "id": "ed8c96c9-188a-44cd-b830-e41b43a402a9",
        "nbgrader": {
          "grade": false,
          "grade_id": "cell-e6aa4fb4daec46cc",
          "locked": false,
          "schema_version": 3,
          "solution": true,
          "task": false
        }
      },
      "outputs": [],
      "source": [
        "def mean_squared_values(arr: np.ndarray):\n",
        "    return np.mean(arr ** 2)\n"
      ]
    },
    {
      "cell_type": "code",
      "execution_count": 22,
      "id": "0761c2aa-41fb-4348-84e2-33a95139a8d9",
      "metadata": {
        "id": "0761c2aa-41fb-4348-84e2-33a95139a8d9",
        "nbgrader": {
          "grade": true,
          "grade_id": "cell-ed3ec8b79ec4fb45",
          "locked": true,
          "points": 0,
          "schema_version": 3,
          "solution": false,
          "task": false
        }
      },
      "outputs": [],
      "source": [
        "x_utest = np.arange(10)\n",
        "result = mean_squared_values(x_utest)\n",
        "\n",
        "assert mean_squared_values(x_utest) == 28.5"
      ]
    },
    {
      "cell_type": "markdown",
      "id": "c47f4dca-2983-4a27-82cc-ecc3cbd720b5",
      "metadata": {
        "id": "c47f4dca-2983-4a27-82cc-ecc3cbd720b5",
        "nbgrader": {
          "grade": false,
          "grade_id": "cell-c9294a1b8d3da21d",
          "locked": true,
          "schema_version": 3,
          "solution": false,
          "task": false
        }
      },
      "source": [
        "### Task 4: I/O and Visualization\n",
        "\n",
        "In this task, we plan to read a data to an `ndarray`, process it, visualize the processed data, and write down to a file."
      ]
    },
    {
      "cell_type": "markdown",
      "id": "d053cabb-9bdc-4445-90e3-4889ced1594a",
      "metadata": {
        "id": "d053cabb-9bdc-4445-90e3-4889ced1594a",
        "nbgrader": {
          "grade": false,
          "grade_id": "cell-63670c1f9801fa36",
          "locked": true,
          "schema_version": 3,
          "solution": false,
          "task": false
        }
      },
      "source": [
        "#### Step 1 (0.5 pts): Reading Data From a File\n",
        "\n",
        "Consider the file `data.txt` in the current directory, and read its content to an array named `arr`.\n",
        "\n",
        "Write down a function `read_values` that takes a `CSV` file `filename` as an input and an `index` as a second argument, and returns the `index` column from the `CSV` file as a NumPy array. You can use either `np.loadtxt` or `pandas.read_csv` here."
      ]
    },
    {
      "cell_type": "code",
      "execution_count": 46,
      "id": "26dc730f-5c0b-4dfe-a247-7c712ddbc36c",
      "metadata": {
        "id": "26dc730f-5c0b-4dfe-a247-7c712ddbc36c",
        "nbgrader": {
          "grade": false,
          "grade_id": "cell-3590743b79d3ee18",
          "locked": false,
          "schema_version": 3,
          "solution": true,
          "task": false
        }
      },
      "outputs": [],
      "source": [
        "import pandas as pd\n",
        "\n",
        "def read_values(filename: str, index: int) -> np.ndarray:\n",
        "\n",
        "    df = pd.read_csv(filename, sep=\",\", header=None, dtype=str)\n",
        "\n",
        "    df[index] = pd.to_numeric(df[index], errors='coerce')\n",
        "\n",
        "    return df[index].dropna().to_numpy()"
      ]
    },
    {
      "cell_type": "code",
      "execution_count": 47,
      "id": "Rr2EmqHLrvlf",
      "metadata": {
        "colab": {
          "base_uri": "https://localhost:8080/"
        },
        "id": "Rr2EmqHLrvlf",
        "outputId": "8da0ec8a-2a3f-4607-ccfd-342efc6fc4c0"
      },
      "outputs": [
        {
          "name": "stdout",
          "output_type": "stream",
          "text": [
            "['.config', 'drive', 'data (1).txt', 'sample_data']\n"
          ]
        },
        {
          "data": {
            "text/plain": [
              "array([-1.9142, -1.8918, -1.3978, -1.382 , -1.2789, -0.9405, -0.9159,\n",
              "       -0.9139, -0.668 , -0.5575, -0.4231, -0.4084, -0.4001, -0.2533,\n",
              "       -0.0993,  0.2214,  0.2642,  0.4028,  0.4189,  0.596 ,  0.6265,\n",
              "        0.8675,  0.8837,  0.9667,  1.04  ,  1.0471,  1.115 ,  1.7697,\n",
              "        1.814 ])"
            ]
          },
          "execution_count": 47,
          "metadata": {},
          "output_type": "execute_result"
        }
      ],
      "source": [
        "import os\n",
        "print(os.listdir())\n",
        "read_values(\"data (1).txt\",0)"
      ]
    },
    {
      "cell_type": "code",
      "execution_count": 48,
      "id": "52d2deec-b999-46d7-843a-d4b5a9a61c02",
      "metadata": {
        "id": "52d2deec-b999-46d7-843a-d4b5a9a61c02",
        "nbgrader": {
          "grade": true,
          "grade_id": "cell-9c00adcc35e85653",
          "locked": true,
          "points": 0,
          "schema_version": 3,
          "solution": false,
          "task": false
        }
      },
      "outputs": [],
      "source": [
        "first_five = np.array([-1.9142, -1.8918, -1.3978, -1.382, -1.2789])\n",
        "\n",
        "assert np.allclose(read_values(\"data (1).txt\", 0)[:5], first_five)"
      ]
    },
    {
      "cell_type": "markdown",
      "id": "676dba9e-8cf3-449e-a9ff-d6c4ff941646",
      "metadata": {
        "id": "676dba9e-8cf3-449e-a9ff-d6c4ff941646",
        "nbgrader": {
          "grade": false,
          "grade_id": "cell-8f92d7051a529ab2",
          "locked": true,
          "schema_version": 3,
          "solution": false,
          "task": false
        }
      },
      "source": [
        "Use your function to read in values to two variables `x_values` and `y_values`."
      ]
    },
    {
      "cell_type": "code",
      "execution_count": 51,
      "id": "9529e7da-9ac1-4cde-9ac1-efc6d60a3ee4",
      "metadata": {
        "colab": {
          "base_uri": "https://localhost:8080/"
        },
        "id": "9529e7da-9ac1-4cde-9ac1-efc6d60a3ee4",
        "nbgrader": {
          "grade": false,
          "grade_id": "cell-8845595b70b6b28d",
          "locked": false,
          "schema_version": 3,
          "solution": true,
          "task": false
        },
        "outputId": "d2ce1557-132d-48a2-ca8b-1066e3092107"
      },
      "outputs": [
        {
          "name": "stdout",
          "output_type": "stream",
          "text": [
            "First 5 values of x: [-1.9142 -1.8918 -1.3978 -1.382  -1.2789]\n",
            "Frist 5 values of y: [-0.7919 -0.0492 -1.5441 -0.087  -1.3767]\n"
          ]
        }
      ],
      "source": [
        "x_values = read_values(\"data (1).txt\",0)\n",
        "y_values = read_values(\"data (1).txt\",1)\n",
        "print(\"First 5 values of x:\", x_values[:5])\n",
        "print(\"Frist 5 values of y:\", y_values[:5])"
      ]
    },
    {
      "cell_type": "code",
      "execution_count": 50,
      "id": "c6f4c8b6-6586-4280-849a-75b6f42200ac",
      "metadata": {
        "id": "c6f4c8b6-6586-4280-849a-75b6f42200ac",
        "nbgrader": {
          "grade": true,
          "grade_id": "cell-210e1768fb0c3ffd",
          "locked": true,
          "points": 0,
          "schema_version": 3,
          "solution": false,
          "task": false
        }
      },
      "outputs": [],
      "source": [
        "first_five_x = np.array([-1.9142, -1.8918, -1.3978, -1.382, -1.2789])\n",
        "first_five_y = np.array([-0.7919, -0.0492, -1.5441, -0.087, -1.3767])\n",
        "assert np.allclose(x_values[:5], first_five_x)\n",
        "assert np.allclose(y_values[:5], first_five_y)"
      ]
    },
    {
      "cell_type": "markdown",
      "id": "80d4a7dc-dc60-446a-9d03-e380707cdaf6",
      "metadata": {
        "id": "80d4a7dc-dc60-446a-9d03-e380707cdaf6",
        "nbgrader": {
          "grade": false,
          "grade_id": "cell-76bdc026a604751c",
          "locked": true,
          "schema_version": 3,
          "solution": false,
          "task": false
        }
      },
      "source": [
        "#### Step 2 (0.5 pts): Processing\n",
        "\n",
        "At this point, we are choosing a simple only to demonstrate the processing before plotting.  The data read in does not reveal something useful because it is randomly generated.\n",
        "\n",
        "The reader should see that any type of processing is possible at this step.\n",
        "\n",
        "Let us say that we do not want to change the variable `x_values`, but we do want to process the `y_values` by applying an exponential function `np.exp` from the NumPy library."
      ]
    },
    {
      "cell_type": "code",
      "execution_count": 52,
      "id": "c40bb64c-f1bb-4418-8a91-c7022397e9ce",
      "metadata": {
        "id": "c40bb64c-f1bb-4418-8a91-c7022397e9ce",
        "nbgrader": {
          "grade": false,
          "grade_id": "cell-c8686dbb972435e7",
          "locked": false,
          "schema_version": 3,
          "solution": true,
          "task": false
        }
      },
      "outputs": [],
      "source": [
        "y_values = np.exp(y_values)"
      ]
    },
    {
      "cell_type": "code",
      "execution_count": 53,
      "id": "4cb4c931-5fcb-47a6-9fd3-c317972477e2",
      "metadata": {
        "id": "4cb4c931-5fcb-47a6-9fd3-c317972477e2",
        "nbgrader": {
          "grade": true,
          "grade_id": "cell-4932dc90b5251480",
          "locked": true,
          "points": 0,
          "schema_version": 3,
          "solution": false,
          "task": false
        }
      },
      "outputs": [],
      "source": [
        "first_five_y = np.array([-0.7919, -0.0492, -1.5441, -0.087, -1.3767])\n",
        "assert np.allclose(y_values[:5], np.exp(first_five_y))"
      ]
    },
    {
      "cell_type": "markdown",
      "id": "306c5bf9-570b-4ff1-914f-deca2579fbdd",
      "metadata": {
        "id": "306c5bf9-570b-4ff1-914f-deca2579fbdd",
        "nbgrader": {
          "grade": false,
          "grade_id": "cell-771d312688689090",
          "locked": true,
          "schema_version": 3,
          "solution": false,
          "task": false
        }
      },
      "source": [
        "#### Step 3 (1 pts): Visualization\n",
        "\n",
        "Take the `x_values` and `y_values` and plot them using `plt.plot`.  Given extra directive of `\"bo\"` to the plot command."
      ]
    },
    {
      "cell_type": "code",
      "execution_count": 54,
      "id": "edcf82da",
      "metadata": {
        "id": "edcf82da"
      },
      "outputs": [],
      "source": [
        "import matplotlib.pyplot as plt"
      ]
    },
    {
      "cell_type": "code",
      "execution_count": 61,
      "id": "8e27a181-0252-49af-8107-5f701f2bc87c",
      "metadata": {
        "colab": {
          "base_uri": "https://localhost:8080/",
          "height": 472
        },
        "id": "8e27a181-0252-49af-8107-5f701f2bc87c",
        "nbgrader": {
          "grade": false,
          "grade_id": "cell-63928df5f03f64e3",
          "locked": false,
          "schema_version": 3,
          "solution": true,
          "task": false
        },
        "outputId": "d3b8230b-16ee-4d10-bc53-27f2cd1b6c05"
      },
      "outputs": [
        {
          "data": {
            "image/png": "[encoded data removed]",
            "text/plain": [
              "<Figure size 640x480 with 1 Axes>"
            ]
          },
          "metadata": {},
          "output_type": "display_data"
        }
      ],
      "source": [
        "plt.plot(x_values, y_values, \"bo\")\n",
        "plt.xlabel(\"x values\")\n",
        "plt.ylabel(\"y values\")\n",
        "plt.title(\"Scatter Plot of Processed Data\")\n",
        "\n",
        "plt.show()"
      ]
    },
    {
      "cell_type": "markdown",
      "id": "6445b1c4-3841-4528-b1a9-0143e28ca07d",
      "metadata": {
        "id": "6445b1c4-3841-4528-b1a9-0143e28ca07d",
        "nbgrader": {
          "grade": false,
          "grade_id": "cell-8c66af01c6bd7b39",
          "locked": true,
          "schema_version": 3,
          "solution": false,
          "task": false
        }
      },
      "source": [
        "#### Step 4 (1 pts): Writing Data to File\n",
        "\n",
        "Write down a function `data_to_csv` that takes three arguments: `x_values`, `y_values` and `filename`, and writes down the arrays as a CSV file to `filename`.  The delimiter is `\",\"`. You should use either `np.savetxt` of `DataFrame.to_csv` here."
      ]
    },
    {
      "cell_type": "code",
      "execution_count": 65,
      "id": "8c2a69b0-b23e-40a1-a4b5-f2cea4dcc4d8",
      "metadata": {
        "id": "8c2a69b0-b23e-40a1-a4b5-f2cea4dcc4d8",
        "nbgrader": {
          "grade": false,
          "grade_id": "cell-001fb10d6ae56bd0",
          "locked": false,
          "schema_version": 3,
          "solution": true,
          "task": false
        }
      },
      "outputs": [],
      "source": [
        "# Your solution to\n",
        "def data_to_csv(x_values: np.ndarray, y_values: np.ndarray, filename: str):\n",
        "    df = pd.DataFrame({\"X Values\": x_values, \"Y Values\": y_values})\n",
        "    df.to_csv(filename, index=False)\n"
      ]
    },
    {
      "cell_type": "code",
      "execution_count": 66,
      "id": "59a4a773",
      "metadata": {
        "id": "59a4a773"
      },
      "outputs": [],
      "source": [
        "data_to_csv(x_values, y_values, 'new_filename.txt')"
      ]
    },
    {
      "cell_type": "markdown",
      "id": "794cffca",
      "metadata": {
        "id": "794cffca"
      },
      "source": [
        "### **Additional Task: Real-World Weather Data Analysis**\n",
        "\n",
        "#### **Congratulations!**  \n",
        "You have successfully completed all the previous tasks. Now, are you ready to apply your skills to a more complex, real-world scenario?  \n",
        "\n",
        "#### **Scenario:**  \n",
        "As you might already know, the weather in Bremen is highly unpredictable. As a **data analyst** for a weather company, your task is to take **temperature data** collected from various sensors and analyze it to detect **extreme weather conditions** and identify **trends**. Try to use the functions you have already defined in the tasks above.\n",
        "\n",
        "#### **Your tasks include:**  \n",
        "\n",
        "1. **Calculating Temperature Statistics: (2 pts)**\n",
        "   - Use NumPy functions (`np.mean`, `np.std`, `np.max`, and `np.min`) to compute key statistics about the temperature readings.  \n",
        "   - Print these aggregate statistics before proceeding to visualization.  \n",
        "\n",
        "2. **Visualizing Temperature Trends: (2 pts)**\n",
        "   - Use `matplotlib` to create a **line plot** showing temperature trends over time.  \n",
        "   - Add a **horizontal line** to represent the **mean temperature**, helping visualize fluctuations above and below the average.  \n",
        "\n",
        "3. **Saving Results: (1 pts)**\n",
        "   - Store the processed temperature data and computed statistics in a new CSV file for further analysis.  \n",
        "\n",
        "By completing this task, you will gain experience in **data aggregation, visualization, and exporting results**, essential skills for real-world data analysis!\n"
      ]
    },
    {
      "cell_type": "code",
      "execution_count": 67,
      "id": "85cca336",
      "metadata": {
        "colab": {
          "base_uri": "https://localhost:8080/"
        },
        "id": "85cca336",
        "outputId": "474b16d8-430f-4f1a-bad4-7ab0a4d2dd79"
      },
      "outputs": [
        {
          "name": "stdout",
          "output_type": "stream",
          "text": [
            "First 5 temperatures [12.48357077  9.30867849 13.23844269 17.61514928  8.82923313]\n"
          ]
        }
      ],
      "source": [
        "# We can use this snippet of code to simulate temperature data for 24 hours\n",
        "import numpy as np\n",
        "np.random.seed(42)\n",
        "time = np.arange(24)  # Representing hours of the day\n",
        "temperatures = np.random.normal(loc=10, scale=5, size=24)  # Normally distributed temperatures\n",
        "\n",
        "print(\"First 5 temperatures\", temperatures[:5])"
      ]
    },
    {
      "cell_type": "code",
      "execution_count": 68,
      "id": "69f6fa25",
      "metadata": {
        "colab": {
          "base_uri": "https://localhost:8080/"
        },
        "id": "69f6fa25",
        "outputId": "b05a21b6-804d-4a6f-fe44-40b3e59c6594"
      },
      "outputs": [
        {
          "name": "stdout",
          "output_type": "stream",
          "text": [
            "Mean Temperature: 9.261808595431855\n",
            "Standard Deviation of Temperatures: 4.766281306058857\n",
            "Maximum Temperature: 17.896064077536955\n",
            "Minimum Temperature: 0.4335987767110101\n"
          ]
        }
      ],
      "source": [
        "mean_temp = np.mean(temperatures)\n",
        "std_temp = np.std(temperatures)\n",
        "max_temp = np.max(temperatures)\n",
        "min_temp = np.min(temperatures)\n",
        "\n",
        "print(\"Mean Temperature:\", mean_temp)\n",
        "print(\"Standard Deviation of Temperatures:\", std_temp)\n",
        "print(\"Maximum Temperature:\", max_temp)\n",
        "print(\"Minimum Temperature:\", min_temp)"
      ]
    },
    {
      "cell_type": "code",
      "execution_count": 70,
      "id": "Jrs22UVo0Mvm",
      "metadata": {
        "colab": {
          "base_uri": "https://localhost:8080/",
          "height": 472
        },
        "id": "Jrs22UVo0Mvm",
        "outputId": "7614f700-0bdf-48a2-e5e6-561ef2151316"
      },
      "outputs": [
        {
          "data": {
            "image/png": "[encoded data removed]",
            "text/plain": [
              "<Figure size 640x480 with 1 Axes>"
            ]
          },
          "metadata": {},
          "output_type": "display_data"
        }
      ],
      "source": [
        "import matplotlib.pyplot as plt\n",
        "plt.plot(time, temperatures, marker = \"o\", linestyle= \"-\", color=\"b\", label = \"Temperature\")\n",
        "plt.axhline(mean_temp, color= \"r\", linestyle = \"--\", label = \"Mean Temperature\")\n",
        "plt.xlabel(\"Time (hours)\")\n",
        "plt.ylabel(\"Temperature (°C)\")\n",
        "plt.title(\"Temperature Trends Over Time\")\n",
        "plt.legend()\n",
        "plt.grid(True)\n"
      ]
    },
    {
      "cell_type": "code",
      "execution_count": 71,
      "id": "NUQnlxVY0joa",
      "metadata": {
        "id": "NUQnlxVY0joa"
      },
      "outputs": [],
      "source": [
        "import pandas as pd\n",
        "\n",
        "df = pd.DataFrame({\"Hour\": time, \"Temperature\": temperatures})\n",
        "\n",
        "df.to_csv(\"temperature_data.csv\", index = False)\n"
      ]
    },
    {
      "cell_type": "code",
      "execution_count": null,
      "id": "fj0vYyCi1GgL",
      "metadata": {
        "id": "fj0vYyCi1GgL"
      },
      "outputs": [],
      "source": []
    }
  ],
  "metadata": {
    "colab": {
      "provenance": []
    },
    "kernel_info": {
      "name": "python"
    },
    "kernelspec": {
      "display_name": "base",
      "language": "python",
      "name": "python3"
    },
    "language_info": {
      "codemirror_mode": {
        "name": "ipython",
        "version": 3
      },
      "file_extension": ".py",
      "mimetype": "text/x-python",
      "name": "python",
      "nbconvert_exporter": "python",
      "pygments_lexer": "ipython3",
      "version": "3.12.4"
    },
    "nteract": {
      "version": "nteract-front-end@1.0.0"
    }
  },
  "nbformat": 4,
  "nbformat_minor": 5
}
