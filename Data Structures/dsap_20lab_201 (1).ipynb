{
  "cells": [
    {
      "cell_type": "markdown",
      "source": [
        "# Data Structures and Processing\n",
        "\n",
        "## Week 1: Introduction to Python"
      ],
      "metadata": {
        "nbgrader": {
          "grade": false,
          "grade_id": "cell-ec29fc9019ca542a",
          "locked": true,
          "schema_version": 3,
          "solution": false,
          "task": false
        },
        "id": "e1c2ee7c-5e61-4ea4-914e-4ad1b56cb993"
      },
      "id": "e1c2ee7c-5e61-4ea4-914e-4ad1b56cb993"
    },
    {
      "cell_type": "markdown",
      "source": [
        "## Name / Variable: First Encounter\n",
        "\n",
        "In many of the programming languages, it is unnecceary to declare the type of an object before declaring it. In addition to that if a name is already in use for an object of certain type, it could be used for an object of another type.  This phenomemon is rephrased as \"dynamically typed language\".\n",
        "\n",
        "Let us consider an example.  We reserve the name `x` for the variable and assign it first and integer and then assign it a string.\n",
        "\n",
        "We are using the `print`function to print the output of a certain evaluation.  Otherwise, the last evaluated result is printed."
      ],
      "metadata": {
        "nbgrader": {
          "grade": false,
          "grade_id": "cell-0bf739a2261db2a4",
          "locked": true,
          "schema_version": 3,
          "solution": false,
          "task": false
        },
        "tags": [],
        "id": "383617d9-140a-478b-bcba-8c1ed5e6d804"
      },
      "id": "383617d9-140a-478b-bcba-8c1ed5e6d804"
    },
    {
      "cell_type": "code",
      "source": [
        "x = 2                        # x is of type int\n",
        "tx = type(x)\n",
        "print(\"The value of x: \", x)\n",
        "print(\"The type of x: \", tx)\n",
        "\n",
        "x = \"Data Structures and Processing\"\n",
        "tx = type(x)\n",
        "print(\"The value of x: \", x)\n",
        "print(\"The type of x: \", tx)"
      ],
      "outputs": [
        {
          "output_type": "stream",
          "name": "stdout",
          "text": "The value of x:  2\nThe type of x:  <class 'int'>\nThe value of x:  Data Structures and Processing\nThe type of x:  <class 'str'>\n"
        }
      ],
      "execution_count": 1,
      "metadata": {
        "editable": true,
        "nbgrader": {
          "grade": false,
          "grade_id": "cell-2166475b94455862",
          "locked": true,
          "schema_version": 3,
          "solution": false,
          "task": false
        },
        "tags": [],
        "colab": {
          "base_uri": "https://localhost:8080/"
        },
        "id": "dfc7ae77-fd18-4fda-9ffc-aa9e3c0a0b48",
        "outputId": "0ed54b93-3bda-4df4-b3e6-7a611b47318c"
      },
      "id": "dfc7ae77-fd18-4fda-9ffc-aa9e3c0a0b48"
    },
    {
      "cell_type": "markdown",
      "source": [
        "### Task\n",
        "\n",
        "Choose a variable name.  Assign it an object of your choice: `int`, `str`, `list`,....  Print your choosen value and its type.  Now assign the same variable a different object and do the same (printing value and its type)."
      ],
      "metadata": {
        "nbgrader": {
          "grade": false,
          "grade_id": "cell-2609950fdbfc186d",
          "locked": true,
          "schema_version": 3,
          "solution": false,
          "task": false
        },
        "id": "e36f9ef5-5b2a-4c8c-8354-3f4302956c28"
      },
      "id": "e36f9ef5-5b2a-4c8c-8354-3f4302956c28"
    },
    {
      "cell_type": "code",
      "source": [
        "name = \"Diego\"\n",
        "tn = type(name)\n",
        "print(\"The value of name: \", name)\n",
        "print(\"The type of name: \", tn)\n",
        "\n",
        "name = 2\n",
        "tn = type(name)\n",
        "print(\"The value of name: \", name)\n",
        "print(\"The type of name: \", tn)"
      ],
      "outputs": [
        {
          "output_type": "stream",
          "name": "stdout",
          "text": "The value of name:  Diego\nThe type of name:  <class 'str'>\nThe value of name:  2\nThe type of name:  <class 'int'>\n"
        }
      ],
      "execution_count": 2,
      "metadata": {
        "editable": true,
        "nbgrader": {
          "grade": true,
          "grade_id": "cell-da7a238e7101d895",
          "locked": false,
          "points": 2,
          "schema_version": 3,
          "solution": true,
          "task": false
        },
        "tags": [],
        "colab": {
          "base_uri": "https://localhost:8080/"
        },
        "id": "4a7b43fa-0654-4407-80bf-f19d59b9c65d",
        "outputId": "84201a77-1e79-4d95-fa0c-cb48c4b574f7"
      },
      "id": "4a7b43fa-0654-4407-80bf-f19d59b9c65d"
    },
    {
      "cell_type": "markdown",
      "source": [
        "## Attributes\n",
        "\n",
        "Recall that objects have attributes. Some of them are callable, and other return some information about the associated object directly.  A helpful function to list all the attributes of an object of a certain class is `dir`.  We use use `dir(x)`, where `x`is the name of the variable whose attributes we want to list, or if we know the class name, we simply type `dir(class_name)`.\n",
        "\n",
        "Let us take an example.\n",
        "\n",
        "We assign a float to variable `x` and list its attributes."
      ],
      "metadata": {
        "nbgrader": {
          "grade": false,
          "grade_id": "cell-57450ddda4fb2e9d",
          "locked": true,
          "schema_version": 3,
          "solution": false,
          "task": false
        },
        "id": "3f6956ef-7f54-4206-84dc-ef05bb7314e3"
      },
      "id": "3f6956ef-7f54-4206-84dc-ef05bb7314e3"
    },
    {
      "cell_type": "code",
      "source": [
        "x = 3.1415\n",
        "dir(x)"
      ],
      "outputs": [
        {
          "output_type": "execute_result",
          "execution_count": 4,
          "data": {
            "text/plain": "['__abs__',\n '__add__',\n '__bool__',\n '__ceil__',\n '__class__',\n '__delattr__',\n '__dir__',\n '__divmod__',\n '__doc__',\n '__eq__',\n '__float__',\n '__floor__',\n '__floordiv__',\n '__format__',\n '__ge__',\n '__getattribute__',\n '__getformat__',\n '__getnewargs__',\n '__gt__',\n '__hash__',\n '__init__',\n '__init_subclass__',\n '__int__',\n '__le__',\n '__lt__',\n '__mod__',\n '__mul__',\n '__ne__',\n '__neg__',\n '__new__',\n '__pos__',\n '__pow__',\n '__radd__',\n '__rdivmod__',\n '__reduce__',\n '__reduce_ex__',\n '__repr__',\n '__rfloordiv__',\n '__rmod__',\n '__rmul__',\n '__round__',\n '__rpow__',\n '__rsub__',\n '__rtruediv__',\n '__set_format__',\n '__setattr__',\n '__sizeof__',\n '__str__',\n '__sub__',\n '__subclasshook__',\n '__truediv__',\n '__trunc__',\n 'as_integer_ratio',\n 'conjugate',\n 'fromhex',\n 'hex',\n 'imag',\n 'is_integer',\n 'real']"
          },
          "metadata": {}
        }
      ],
      "execution_count": 3,
      "metadata": {
        "nbgrader": {
          "grade": false,
          "grade_id": "cell-4e353d58f7b571aa",
          "locked": true,
          "schema_version": 3,
          "solution": false,
          "task": false
        },
        "scrolled": true,
        "colab": {
          "base_uri": "https://localhost:8080/"
        },
        "id": "da9e3fb1-69ea-4499-860c-7c0b58539612",
        "outputId": "c7d2d94e-4302-4dc9-d28f-2ceccd294920"
      },
      "id": "da9e3fb1-69ea-4499-860c-7c0b58539612"
    },
    {
      "cell_type": "markdown",
      "source": [
        "Let us say at this point, we have done some work and we are not sure if our variable has integer stored in it or a float.  We see in the above list that there is an attribute `is_integer`.  That sounds promising for our purpose.  So we use it as follows."
      ],
      "metadata": {
        "nbgrader": {
          "grade": false,
          "grade_id": "cell-121cf18625297808",
          "locked": true,
          "schema_version": 3,
          "solution": false,
          "task": false
        },
        "id": "ee09e56f-ec4f-447e-86d1-182bad9c8681"
      },
      "id": "ee09e56f-ec4f-447e-86d1-182bad9c8681"
    },
    {
      "cell_type": "code",
      "source": [
        "x.is_integer"
      ],
      "outputs": [
        {
          "output_type": "execute_result",
          "execution_count": 5,
          "data": {
            "text/plain": "<function float.is_integer()>"
          },
          "metadata": {}
        }
      ],
      "execution_count": 4,
      "metadata": {
        "nbgrader": {
          "grade": false,
          "grade_id": "cell-d46dac14da8a17a4",
          "locked": true,
          "schema_version": 3,
          "solution": false,
          "task": false
        },
        "colab": {
          "base_uri": "https://localhost:8080/"
        },
        "id": "4dc7efed-1391-45e3-a674-94d660aae6e6",
        "outputId": "4252f66a-b06c-46be-c630-a278cb9a4a0b"
      },
      "id": "4dc7efed-1391-45e3-a674-94d660aae6e6"
    },
    {
      "cell_type": "markdown",
      "source": [
        "The output of above call is not what we wanted.  A Python user of some experience would know what to do at this point.  But we assume that we do not know.  The next step would be to get some help.  Help is called as follows."
      ],
      "metadata": {
        "nbgrader": {
          "grade": false,
          "grade_id": "cell-b609d7c4030ac8b7",
          "locked": true,
          "schema_version": 3,
          "solution": false,
          "task": false
        },
        "id": "aa707730-1ef9-46dc-a86b-4a1ff5417f89"
      },
      "id": "aa707730-1ef9-46dc-a86b-4a1ff5417f89"
    },
    {
      "cell_type": "code",
      "source": [
        "help(x.is_integer)"
      ],
      "outputs": [
        {
          "output_type": "stream",
          "name": "stdout",
          "text": "Help on built-in function is_integer:\n\nis_integer() method of builtins.float instance\n    Return True if the float is an integer.\n\n"
        }
      ],
      "execution_count": 5,
      "metadata": {
        "nbgrader": {
          "grade": false,
          "grade_id": "cell-c48ae6886130145e",
          "locked": true,
          "schema_version": 3,
          "solution": false,
          "task": false
        },
        "colab": {
          "base_uri": "https://localhost:8080/"
        },
        "id": "d856bf02-1d47-4305-8663-7042a0b72916",
        "outputId": "f290c6e3-7cf5-4e28-ac8b-da40c90d1916"
      },
      "id": "d856bf02-1d47-4305-8663-7042a0b72916"
    },
    {
      "cell_type": "markdown",
      "source": [
        "The help suggest that we use it with parenthesis at the end. It is a callable method.  Now let us try one more time."
      ],
      "metadata": {
        "nbgrader": {
          "grade": false,
          "grade_id": "cell-888541a838a718f9",
          "locked": true,
          "schema_version": 3,
          "solution": false,
          "task": false
        },
        "id": "7328652a-0523-4c2e-a987-530a7b4919ab"
      },
      "id": "7328652a-0523-4c2e-a987-530a7b4919ab"
    },
    {
      "cell_type": "code",
      "source": [
        "x.is_integer()  # It should return False."
      ],
      "outputs": [
        {
          "output_type": "execute_result",
          "execution_count": 7,
          "data": {
            "text/plain": "False"
          },
          "metadata": {}
        }
      ],
      "execution_count": 6,
      "metadata": {
        "nbgrader": {
          "grade": false,
          "grade_id": "cell-98e738d6713fb21d",
          "locked": true,
          "schema_version": 3,
          "solution": false,
          "task": false
        },
        "colab": {
          "base_uri": "https://localhost:8080/"
        },
        "id": "240996d9-b695-4ad5-b9ae-f345c56d944a",
        "outputId": "d4595be5-9bf1-4eef-f1b9-ab718e37c910"
      },
      "id": "240996d9-b695-4ad5-b9ae-f345c56d944a"
    },
    {
      "cell_type": "markdown",
      "source": [
        "### Task\n",
        "\n",
        "Choose an object of certain type, and expolore attributes associated to its class.  Get help on the use with `help`function."
      ],
      "metadata": {
        "nbgrader": {
          "grade": false,
          "grade_id": "cell-c6f41ead7b851fa7",
          "locked": true,
          "schema_version": 3,
          "solution": false,
          "task": false
        },
        "id": "628f557d-5bea-49f4-8b7a-19b5517bb36e"
      },
      "id": "628f557d-5bea-49f4-8b7a-19b5517bb36e"
    },
    {
      "cell_type": "code",
      "source": [
        "Last_name = \"aguilar\"\n",
        "dir(Last_name)"
      ],
      "outputs": [
        {
          "output_type": "execute_result",
          "execution_count": 8,
          "data": {
            "text/plain": "['__add__',\n '__class__',\n '__contains__',\n '__delattr__',\n '__dir__',\n '__doc__',\n '__eq__',\n '__format__',\n '__ge__',\n '__getattribute__',\n '__getitem__',\n '__getnewargs__',\n '__gt__',\n '__hash__',\n '__init__',\n '__init_subclass__',\n '__iter__',\n '__le__',\n '__len__',\n '__lt__',\n '__mod__',\n '__mul__',\n '__ne__',\n '__new__',\n '__reduce__',\n '__reduce_ex__',\n '__repr__',\n '__rmod__',\n '__rmul__',\n '__setattr__',\n '__sizeof__',\n '__str__',\n '__subclasshook__',\n 'capitalize',\n 'casefold',\n 'center',\n 'count',\n 'encode',\n 'endswith',\n 'expandtabs',\n 'find',\n 'format',\n 'format_map',\n 'index',\n 'isalnum',\n 'isalpha',\n 'isascii',\n 'isdecimal',\n 'isdigit',\n 'isidentifier',\n 'islower',\n 'isnumeric',\n 'isprintable',\n 'isspace',\n 'istitle',\n 'isupper',\n 'join',\n 'ljust',\n 'lower',\n 'lstrip',\n 'maketrans',\n 'partition',\n 'removeprefix',\n 'removesuffix',\n 'replace',\n 'rfind',\n 'rindex',\n 'rjust',\n 'rpartition',\n 'rsplit',\n 'rstrip',\n 'split',\n 'splitlines',\n 'startswith',\n 'strip',\n 'swapcase',\n 'title',\n 'translate',\n 'upper',\n 'zfill']"
          },
          "metadata": {}
        }
      ],
      "execution_count": 7,
      "metadata": {
        "nbgrader": {
          "grade": true,
          "grade_id": "cell-8e89b16d084a2662",
          "locked": false,
          "points": 2,
          "schema_version": 3,
          "solution": true,
          "task": false
        },
        "colab": {
          "base_uri": "https://localhost:8080/"
        },
        "id": "d8421d5a-13b8-4c08-9f72-876183174cf9",
        "outputId": "a6bda3ec-0c56-4335-e6e5-c7dc4ac9b044"
      },
      "id": "d8421d5a-13b8-4c08-9f72-876183174cf9"
    },
    {
      "cell_type": "code",
      "source": [
        "Last_name.capitalize()"
      ],
      "outputs": [
        {
          "output_type": "execute_result",
          "execution_count": 9,
          "data": {
            "text/plain": "'Aguilar'"
          },
          "metadata": {}
        }
      ],
      "execution_count": 8,
      "metadata": {
        "colab": {
          "base_uri": "https://localhost:8080/",
          "height": 36
        },
        "id": "ltBYx00Pt5eH",
        "outputId": "905aae6b-f466-4e96-bfc3-59810793f985"
      },
      "id": "ltBYx00Pt5eH"
    },
    {
      "cell_type": "code",
      "source": [
        "help(Last_name.capitalize)"
      ],
      "outputs": [
        {
          "output_type": "stream",
          "name": "stdout",
          "text": "Help on built-in function capitalize:\n\ncapitalize() method of builtins.str instance\n    Return a capitalized version of the string.\n    \n    More specifically, make the first character have upper case and the rest lower\n    case.\n\n"
        }
      ],
      "execution_count": 9,
      "metadata": {
        "colab": {
          "base_uri": "https://localhost:8080/"
        },
        "id": "7TXyToz2vEeV",
        "outputId": "6c4200f5-d8f2-48b9-9dbc-36cd915c7c51"
      },
      "id": "7TXyToz2vEeV"
    },
    {
      "cell_type": "code",
      "source": [
        "Last_name.count(Last_name)"
      ],
      "outputs": [
        {
          "output_type": "execute_result",
          "execution_count": 11,
          "data": {
            "text/plain": "1"
          },
          "metadata": {}
        }
      ],
      "execution_count": 10,
      "metadata": {
        "colab": {
          "base_uri": "https://localhost:8080/"
        },
        "id": "C00XrRqYueGG",
        "outputId": "6eadfe1b-92f8-4ffc-ef58-d140e987cce5"
      },
      "id": "C00XrRqYueGG"
    },
    {
      "cell_type": "code",
      "source": [
        "help(Last_name.count)"
      ],
      "outputs": [
        {
          "output_type": "stream",
          "name": "stdout",
          "text": "Help on built-in function count:\n\ncount(...) method of builtins.str instance\n    S.count(sub[, start[, end]]) -> int\n    \n    Return the number of non-overlapping occurrences of substring sub in\n    string S[start:end].  Optional arguments start and end are\n    interpreted as in slice notation.\n\n"
        }
      ],
      "execution_count": 11,
      "metadata": {
        "colab": {
          "base_uri": "https://localhost:8080/"
        },
        "id": "9gUoAEogvIJx",
        "outputId": "c7c02dce-0c5e-4d95-906d-47a3f151fe4e"
      },
      "id": "9gUoAEogvIJx"
    },
    {
      "cell_type": "code",
      "source": [
        "Last_name.lower()"
      ],
      "outputs": [
        {
          "output_type": "execute_result",
          "execution_count": 13,
          "data": {
            "text/plain": "'aguilar'"
          },
          "metadata": {}
        }
      ],
      "execution_count": 12,
      "metadata": {
        "colab": {
          "base_uri": "https://localhost:8080/",
          "height": 36
        },
        "id": "8cfVIqRyurm6",
        "outputId": "c15fc25d-60a1-4e9f-f65d-51071ec7bea3"
      },
      "id": "8cfVIqRyurm6"
    },
    {
      "cell_type": "code",
      "source": [
        "help(Last_name.lower)"
      ],
      "outputs": [
        {
          "output_type": "stream",
          "name": "stdout",
          "text": "Help on built-in function lower:\n\nlower() method of builtins.str instance\n    Return a copy of the string converted to lowercase.\n\n"
        }
      ],
      "execution_count": 13,
      "metadata": {
        "colab": {
          "base_uri": "https://localhost:8080/"
        },
        "id": "otqX6IUbvLPg",
        "outputId": "c5960229-c6b4-4b76-e783-092bba71e806"
      },
      "id": "otqX6IUbvLPg"
    },
    {
      "cell_type": "markdown",
      "source": [
        "## Boolean and Other Special Types\n",
        "\n",
        "Recall that we have covered Boolean and the object `None`.  There are many other special types, and we shall explore them as we move forward. For now, let us recall our knowledge about boolean and its means of combinations.\n",
        "\n",
        "Let us fix `x=True` and `y=False`, and determine the meaning of different combinations."
      ],
      "metadata": {
        "nbgrader": {
          "grade": false,
          "grade_id": "cell-3b7210e51a682ef8",
          "locked": true,
          "schema_version": 3,
          "solution": false,
          "task": false
        },
        "id": "81d94582-629c-4ace-abfe-8485904338ae"
      },
      "id": "81d94582-629c-4ace-abfe-8485904338ae"
    },
    {
      "cell_type": "code",
      "source": [
        "x = True\n",
        "y = False\n",
        "\n",
        "xandy = x and y\n",
        "xory = x or y\n",
        "\n",
        "print(\"Value of x and y is: \", xandy)\n",
        "print(\"Value of x or y is: \", xory)"
      ],
      "outputs": [
        {
          "output_type": "stream",
          "name": "stdout",
          "text": "Value of x and y is:  False\nValue of x or y is:  True\n"
        }
      ],
      "execution_count": 14,
      "metadata": {
        "nbgrader": {
          "grade": false,
          "grade_id": "cell-5aee68890a3d8995",
          "locked": true,
          "schema_version": 3,
          "solution": false,
          "task": false
        },
        "id": "45fc333c-1f0f-4a60-bd6c-b66f3c490302",
        "outputId": "a766d94a-5583-48c7-ed00-669c6f1617ea",
        "colab": {
          "base_uri": "https://localhost:8080/"
        }
      },
      "id": "45fc333c-1f0f-4a60-bd6c-b66f3c490302"
    },
    {
      "cell_type": "markdown",
      "source": [
        "### Task\n",
        "\n",
        "Recall the De Morgan's law that $(A+B)^\\prime=A^\\prime \\cdot B^\\prime$.  Here $A^\\prime$ is a mathematical notation for the complement of the statement $A$.\n",
        "\n",
        "Assign values to $A$ and $B$ and print the result of the left hand side and the right hand side of the De Morgan's law on separate lines.\n",
        "\n",
        "It is advised that you first try to guess the outcomes before actually evaluating the block to test your understanding of the boolean and their means of combinations."
      ],
      "metadata": {
        "nbgrader": {
          "grade": false,
          "grade_id": "cell-f94cd2c7dee3e85c",
          "locked": true,
          "schema_version": 3,
          "solution": false,
          "task": false
        },
        "id": "fe6b945d-c643-44c0-b94b-ef52255aa396"
      },
      "id": "fe6b945d-c643-44c0-b94b-ef52255aa396"
    },
    {
      "cell_type": "code",
      "source": [
        "A = True\n",
        "B = False\n",
        "\n",
        "lhs = not (A or B)\n",
        "print(\"Left hand side:\", lhs)\n",
        "\n",
        "rhs = (not A) and (not B)\n",
        "print(\"Right hand side:\", rhs)\n"
      ],
      "outputs": [
        {
          "output_type": "stream",
          "name": "stdout",
          "text": "Left hand side: False\nRight hand side: False\n"
        }
      ],
      "execution_count": 15,
      "metadata": {
        "nbgrader": {
          "grade": true,
          "grade_id": "cell-40ddfbe43f3947f9",
          "locked": false,
          "points": 2,
          "schema_version": 3,
          "solution": true,
          "task": false
        },
        "colab": {
          "base_uri": "https://localhost:8080/"
        },
        "id": "92021624-b7e0-400c-91c3-3da6e5f651d1",
        "outputId": "41791f41-57e3-46eb-c1e2-23f7af4947b2"
      },
      "id": "92021624-b7e0-400c-91c3-3da6e5f651d1"
    },
    {
      "cell_type": "markdown",
      "source": [
        "## Numbers: Integers, Floats, Complex Numbers\n",
        "\n",
        "Recall your knowledge about numbers in Python.\n",
        "\n",
        "### Task\n",
        "\n",
        "1. Choose `x` to be a float and make sure that it has the decimal part.  To make sure that a float is a \"pure\" float or that it has a decimal part, `is_integer` is helpful.  Apply the function `int` on `x` and observe the result.  Explain it to yourself the reason behind the result.\n",
        "\n",
        "2. Choose `x` to be the string \"2.3\" now.  Apply `int` now and observe the result.  Warning: An error will be raised this time.  Explain it to yourself the reason for the error."
      ],
      "metadata": {
        "nbgrader": {
          "grade": false,
          "grade_id": "cell-6c8bfb76a8aa466e",
          "locked": true,
          "schema_version": 3,
          "solution": false,
          "task": false
        },
        "id": "4ca7cd89-7c4f-4522-a9e6-bb9998f1023b"
      },
      "id": "4ca7cd89-7c4f-4522-a9e6-bb9998f1023b"
    },
    {
      "cell_type": "code",
      "source": [
        "x = 2.34\n",
        "x.is_integer()\n",
        "int(x) #It rounds the number from 2.34 to simply 2.\n",
        "\n",
        "x = \"2.3\"\n",
        "int(x) #It is not a number. It is a string, therefore an error appeared."
      ],
      "outputs": [
        {
          "output_type": "error",
          "ename": "<class 'ValueError'>",
          "evalue": "invalid literal for int() with base 10: '2.3'",
          "traceback": [
            "\u001b[0;31m---------------------------------------------------------------------------\u001b[0m",
            "\u001b[0;31mValueError\u001b[0m                                Traceback (most recent call last)",
            "Cell \u001b[0;32mIn[17], line 6\u001b[0m\n\u001b[1;32m      3\u001b[0m \u001b[38;5;28mint\u001b[39m(x) \u001b[38;5;66;03m#It rounds the number from 2.34 to simply 2.\u001b[39;00m\n\u001b[1;32m      5\u001b[0m x \u001b[38;5;241m=\u001b[39m \u001b[38;5;124m\"\u001b[39m\u001b[38;5;124m2.3\u001b[39m\u001b[38;5;124m\"\u001b[39m\n\u001b[0;32m----> 6\u001b[0m \u001b[38;5;28;43mint\u001b[39;49m\u001b[43m(\u001b[49m\u001b[43mx\u001b[49m\u001b[43m)\u001b[49m \u001b[38;5;66;03m#It is not a number. It is a string, therefore an error appeared.\u001b[39;00m\n",
            "\u001b[0;31mValueError\u001b[0m: invalid literal for int() with base 10: '2.3'"
          ]
        }
      ],
      "execution_count": 16,
      "metadata": {
        "colab": {
          "base_uri": "https://localhost:8080/",
          "height": 176
        },
        "id": "XGjdzNByxD4D",
        "outputId": "99287c57-cd4d-4f52-92c1-dfbbbe7d35aa"
      },
      "id": "XGjdzNByxD4D"
    },
    {
      "cell_type": "markdown",
      "source": [
        "### Task\n",
        "\n",
        "Let us choose two floats `x=1.2` and `y=2.2`.  If we add the two numbers, we obtain a result different than 3.4.  See below."
      ],
      "metadata": {
        "nbgrader": {
          "grade": false,
          "grade_id": "cell-e2b616373192b0b2",
          "locked": true,
          "schema_version": 3,
          "solution": false,
          "task": false
        },
        "id": "7c34d901-0ac1-4644-a342-0153e70c8ce6"
      },
      "id": "7c34d901-0ac1-4644-a342-0153e70c8ce6"
    },
    {
      "cell_type": "code",
      "source": [
        "x=1.2\n",
        "y=2.2\n",
        "z = x+y\n",
        "z"
      ],
      "outputs": [
        {
          "output_type": "execute_result",
          "execution_count": 29,
          "data": {
            "text/plain": "3.4000000000000004"
          },
          "metadata": {}
        }
      ],
      "execution_count": 28,
      "metadata": {
        "nbgrader": {
          "grade": false,
          "grade_id": "cell-ecefb441690f1858",
          "locked": true,
          "schema_version": 3,
          "solution": false,
          "task": false
        },
        "colab": {
          "base_uri": "https://localhost:8080/"
        },
        "id": "db0b9e28-eb93-4862-a353-354e06c265b2",
        "outputId": "1fe52d6c-9003-486f-fcfd-2ec81b588ec1"
      },
      "id": "db0b9e28-eb93-4862-a353-354e06c265b2"
    },
    {
      "cell_type": "markdown",
      "source": [
        "The type `float` has an attribute `hex` that might be helpful in explainging the reason behind not obtaining 3.4. Let us use it as follows"
      ],
      "metadata": {
        "nbgrader": {
          "grade": false,
          "grade_id": "cell-45dd0db519134627",
          "locked": true,
          "schema_version": 3,
          "solution": false,
          "task": false
        },
        "id": "2a6d8079-2598-46a9-b6a8-2d3ec8a1fb37"
      },
      "id": "2a6d8079-2598-46a9-b6a8-2d3ec8a1fb37"
    },
    {
      "cell_type": "code",
      "source": [
        "z.hex()"
      ],
      "outputs": [
        {
          "output_type": "execute_result",
          "execution_count": 30,
          "data": {
            "text/plain": "'0x1.b333333333334p+1'"
          },
          "metadata": {}
        }
      ],
      "execution_count": 29,
      "metadata": {
        "nbgrader": {
          "grade": false,
          "grade_id": "cell-6ea38050953c30eb",
          "locked": true,
          "schema_version": 3,
          "solution": false,
          "task": false
        },
        "colab": {
          "base_uri": "https://localhost:8080/",
          "height": 36
        },
        "id": "ee5a3052-90dc-40c4-a04c-011393b354a5",
        "outputId": "0b78722a-30d4-45d6-9f5f-200bf8d1797d"
      },
      "id": "ee5a3052-90dc-40c4-a04c-011393b354a5"
    },
    {
      "cell_type": "markdown",
      "source": [
        "The returned result is a `hex` (in base 16) representation of the sum of `x` and `y`.  It might be cryptic at this point, but let us see how we can manually obtain the number in decimal from it. On the left hand side of the decimal in `0x1.b333333333334p+1`, we have the integer 1, and on the right hand side, we have `b`(stands for 11), and then many 3.  At the end we have the exponent `+1`.  The individual integers on the left side of the decimal are multiplied with nonnegative powers of 16 (starting with the power 0 and increasing towards left), and those on the right hand side of the decimal are multiplied with the negative powers of 16 (starting with -1 and decreasing towards right).  All the multiplied factors are then summed and the resulting sum is multiplied with 16 raised to the power the exponent in `0x1.b333333333334p+1`.\n",
        "\n",
        "In the following cell, perform the above computation."
      ],
      "metadata": {
        "nbgrader": {
          "grade": false,
          "grade_id": "cell-57665f0b2268c7c8",
          "locked": true,
          "schema_version": 3,
          "solution": false,
          "task": false
        },
        "id": "8d988dfa-e31b-499d-a19c-d7032523fcb6"
      },
      "id": "8d988dfa-e31b-499d-a19c-d7032523fcb6"
    },
    {
      "cell_type": "markdown",
      "source": [
        "### Task\n",
        "\n",
        "Consider complex number `x=1.2+2.3j`. Find them using`abs`, `real` and `imag`.\n",
        "\n",
        "1. absolute value of `x`.\n",
        "2. obtain real part of `x`.\n",
        "3. obtain real part of `x`."
      ],
      "metadata": {
        "nbgrader": {
          "grade": false,
          "grade_id": "cell-59930c0e14985a64",
          "locked": true,
          "schema_version": 3,
          "solution": false,
          "task": false
        },
        "id": "73be2c09-4e04-488b-a247-4d023f567635"
      },
      "id": "73be2c09-4e04-488b-a247-4d023f567635"
    },
    {
      "cell_type": "code",
      "source": [
        "x = 1.2 + 2.3j\n",
        "abs(x)\n",
        "x.real\n",
        "x.imag"
      ],
      "outputs": [
        {
          "output_type": "execute_result",
          "execution_count": 31,
          "data": {
            "text/plain": "2.3"
          },
          "metadata": {}
        }
      ],
      "execution_count": 30,
      "metadata": {
        "nbgrader": {
          "grade": true,
          "grade_id": "cell-11095b117bb82a1b",
          "locked": false,
          "points": 2,
          "schema_version": 3,
          "solution": true,
          "task": false
        },
        "colab": {
          "base_uri": "https://localhost:8080/"
        },
        "id": "55ab6de9-6d92-4f1e-a69c-41132164b917",
        "outputId": "f055a56d-8124-4a62-c045-63232672b950"
      },
      "id": "55ab6de9-6d92-4f1e-a69c-41132164b917"
    },
    {
      "cell_type": "markdown",
      "source": [
        "### Task\n",
        "\n",
        "We want to assign the complex number with real part 1.2 and imaginary part 2.3 to a variable `x`.  Which of the following does not give error?  Try one your console or the evaluation block below.\n",
        "\n",
        "1. `x= 1.2 + j2.3`\n",
        "2. `x= 1.2 + 2.3 j`\n",
        "3. `x= 1.2 + 2.3j`"
      ],
      "metadata": {
        "nbgrader": {
          "grade": false,
          "grade_id": "cell-0f61b11303c71e8d",
          "locked": true,
          "schema_version": 3,
          "solution": false,
          "task": false
        },
        "id": "81af7c9d-d0ba-4187-bd07-75b49b39c243"
      },
      "id": "81af7c9d-d0ba-4187-bd07-75b49b39c243"
    },
    {
      "cell_type": "code",
      "source": [
        "x= 1.2 + 2.3j\n"
      ],
      "outputs": [],
      "execution_count": 31,
      "metadata": {
        "nbgrader": {
          "grade": true,
          "grade_id": "cell-2ddc09869ce6c596",
          "locked": false,
          "points": 2,
          "schema_version": 3,
          "solution": true,
          "task": false
        },
        "id": "406afd93-e486-4871-a908-1d52f110e840"
      },
      "id": "406afd93-e486-4871-a908-1d52f110e840"
    },
    {
      "cell_type": "markdown",
      "source": [
        "## Strings\n",
        "\n",
        "### Task\n",
        "\n",
        "We want to prepare an email.  Here is a way using strings."
      ],
      "metadata": {
        "nbgrader": {
          "grade": false,
          "grade_id": "cell-ab71f00f359fde99",
          "locked": true,
          "schema_version": 3,
          "solution": false,
          "task": false
        },
        "id": "d8c6fda4-a12f-443b-8025-b00f125bac18"
      },
      "id": "d8c6fda4-a12f-443b-8025-b00f125bac18"
    },
    {
      "cell_type": "code",
      "source": [
        "e_greeting=\"Dear \"\n",
        "e_to= \"John\"\n",
        "newline =\"\"\"\n",
        "\"\"\"\n",
        "e_text = \"Thanks for approaching. I'll get back to you as soon as possible after solving this task.\"\n",
        "e_end = \"Best regards,\"\n",
        "e_from = \"XYZ\"\n",
        "\n",
        "email_body = e_greeting + e_to + 2*newline + e_text + 2*newline + e_end + 2*newline + e_from\n",
        "\n",
        "print(email_body)"
      ],
      "outputs": [
        {
          "output_type": "stream",
          "name": "stdout",
          "text": "Dear John\n\nThanks for approaching. I'll get back to you as soon as possible after solving this task.\n\nBest regards,\n\nXYZ\n"
        }
      ],
      "execution_count": 32,
      "metadata": {
        "nbgrader": {
          "grade": false,
          "grade_id": "cell-9d9f2bb439844584",
          "locked": true,
          "schema_version": 3,
          "solution": false,
          "task": false
        },
        "id": "9a70c374-d678-4f17-aed2-6765fce3693e",
        "outputId": "0cbae3a1-fb85-4a01-8e98-82bc80dab69b",
        "colab": {
          "base_uri": "https://localhost:8080/"
        }
      },
      "id": "9a70c374-d678-4f17-aed2-6765fce3693e"
    },
    {
      "cell_type": "markdown",
      "source": [
        "Your task is to\n",
        "\n",
        "1. change the name from `\"John\"` to `\"Mike\"`\n",
        "2. remove the substring \"Thanks for approaching\".\n",
        "3. change the `XYZ` to some name.\n",
        "4. print the email using `print` function while making sure that there are two new lines between lines except between the last two lines."
      ],
      "metadata": {
        "nbgrader": {
          "grade": false,
          "grade_id": "cell-f93bcd62b1a128a1",
          "locked": true,
          "schema_version": 3,
          "solution": false,
          "task": false
        },
        "id": "c0e431bc-8406-43e7-ba6a-5321234462e4"
      },
      "id": "c0e431bc-8406-43e7-ba6a-5321234462e4"
    },
    {
      "cell_type": "code",
      "source": [
        "e_greeting = \"Dear \"\n",
        "e_to = \"Mike\"\n",
        "newline = \"\"\"\n",
        "\"\"\"\n",
        "e_text = \"I'll get back to you as soon as possible after solving this task.\"\n",
        "e_end = \"Best regards,\"\n",
        "e_from = \"Diego\"\n",
        "\n",
        "email_body = e_greeting + e_to + 2*newline + e_text + 2*newline + e_end + newline + e_from\n",
        "\n",
        "print(email_body)\n"
      ],
      "outputs": [
        {
          "output_type": "stream",
          "name": "stdout",
          "text": "Dear Mike\n\nI'll get back to you as soon as possible after solving this task.\n\nBest regards,\nDiego\n"
        }
      ],
      "execution_count": 33,
      "metadata": {
        "nbgrader": {
          "grade": true,
          "grade_id": "cell-74197e65fd0267ed",
          "locked": false,
          "points": 4,
          "schema_version": 3,
          "solution": true,
          "task": false
        },
        "colab": {
          "base_uri": "https://localhost:8080/"
        },
        "id": "2a60bceb-f43c-4853-8f85-3b8692c4de50",
        "outputId": "4f28ea0b-10e4-4c43-c7bd-abd9597a5415"
      },
      "id": "2a60bceb-f43c-4853-8f85-3b8692c4de50"
    },
    {
      "cell_type": "markdown",
      "source": [
        "## Lists and Tuples\n"
      ],
      "metadata": {
        "nbgrader": {
          "grade": false,
          "grade_id": "cell-84567bbdd6660280",
          "locked": true,
          "schema_version": 3,
          "solution": false,
          "task": false
        },
        "id": "a1ee7a69-b791-40ca-a483-92faf52a573e"
      },
      "id": "a1ee7a69-b791-40ca-a483-92faf52a573e"
    },
    {
      "cell_type": "markdown",
      "source": [
        "### Task\n",
        "\n",
        "Let us consider the sentence \"This sentence is false\", and assign it as a string to a variable `x`.  After that, we split `x` using a string method and notice that a list is returned.  See below"
      ],
      "metadata": {
        "nbgrader": {
          "grade": false,
          "grade_id": "cell-a6967f8ccbab5a85",
          "locked": true,
          "schema_version": 3,
          "solution": false,
          "task": false
        },
        "id": "de4c90b6-1c27-4489-b491-f9034713fd2c"
      },
      "id": "de4c90b6-1c27-4489-b491-f9034713fd2c"
    },
    {
      "cell_type": "code",
      "source": [
        "x = \"This sentence is false.\"\n",
        "l = x.split(\" \")\n",
        "l.reverse()\n",
        "l\n",
        "\n"
      ],
      "outputs": [
        {
          "output_type": "execute_result",
          "execution_count": 35,
          "data": {
            "text/plain": "['false.', 'is', 'sentence', 'This']"
          },
          "metadata": {}
        }
      ],
      "execution_count": 34,
      "metadata": {
        "nbgrader": {
          "grade": false,
          "grade_id": "cell-0ca87b8addffa2c5",
          "locked": true,
          "schema_version": 3,
          "solution": false,
          "task": false
        },
        "colab": {
          "base_uri": "https://localhost:8080/"
        },
        "id": "50f50f89-db9a-45d9-b92a-7644a6660e1e",
        "outputId": "5a5f1a87-9e26-4e28-bb6e-889e1bd13ad6"
      },
      "id": "50f50f89-db9a-45d9-b92a-7644a6660e1e"
    },
    {
      "cell_type": "markdown",
      "source": [
        "Your task is to\n",
        "1. reverse the list using the callable method `reverse`. See it in `dir(list)`.\n",
        "2. change the first element of the list to capitalized version and remove . (period) from it.\n",
        "3. make the last element in the list a lower case word.\n",
        "4. use `\" \".join(l)` to join the list `l` into a single string.\n",
        "5. print the result."
      ],
      "metadata": {
        "nbgrader": {
          "grade": false,
          "grade_id": "cell-8a478f5900961a2d",
          "locked": true,
          "schema_version": 3,
          "solution": false,
          "task": false
        },
        "id": "43a95994-3096-497a-b3e1-457e35db9ba6"
      },
      "id": "43a95994-3096-497a-b3e1-457e35db9ba6"
    },
    {
      "cell_type": "code",
      "source": [
        "x = \"This sentence is false.\"\n",
        "l = x.split(\" \")\n",
        "l.reverse()\n",
        "\n",
        "l.reverse()\n",
        "l[0] = l[0].capitalize().rstrip('.')\n",
        "l[-1] = l[-1].lower()\n",
        "\n",
        "result = \" \".join(l)\n",
        "print(result)"
      ],
      "outputs": [
        {
          "output_type": "stream",
          "name": "stdout",
          "text": "This sentence is false.\n"
        }
      ],
      "execution_count": 35,
      "metadata": {
        "nbgrader": {
          "grade": false,
          "grade_id": "cell-7d134ca941a8fd0f",
          "locked": true,
          "points": 5,
          "schema_version": 3,
          "solution": false,
          "task": true
        },
        "colab": {
          "base_uri": "https://localhost:8080/"
        },
        "id": "96af832e-9b48-4f85-b44e-02e34625f545",
        "outputId": "b5244e3c-aa24-4155-b86b-ff4ddccb332b"
      },
      "id": "96af832e-9b48-4f85-b44e-02e34625f545"
    },
    {
      "cell_type": "markdown",
      "source": [
        "### Task\n",
        "\n",
        "Recall thatlists are mutable objects, but tuples are not.  This means that the elements within a list can be changed but the elements in a tuples cannot be changed.\n",
        "\n",
        "Consider now `x = (1,2,[3,4])`.  Is it possible to change 4 to something else?  Why or why not?"
      ],
      "metadata": {
        "nbgrader": {
          "grade": false,
          "grade_id": "cell-6e9a67fbaaa6a55b",
          "locked": true,
          "schema_version": 3,
          "solution": false,
          "task": false
        },
        "id": "b924a650-bc88-4268-9207-9aff01d3d610"
      },
      "id": "b924a650-bc88-4268-9207-9aff01d3d610"
    },
    {
      "cell_type": "code",
      "source": [
        "x = (1,2,[3,4])\n",
        "x[2][1] = 5\n",
        "x\n",
        "# Yes, it's possible to change the 4 to something else, even though x is a tuple.\n",
        "# This is because tuples are only partially immutable.\n",
        "# While you can't change the top-level elements of a tuple (the 1, 2, and the list [3, 4] themselves),\n",
        "#if one of those elements is a mutable object like a list, you can modify the contents of that mutable object.\n",
        "#In this case, the third element of the tuple x is a list [3, 4]. Lists are mutable, meaning their elements can be changed. We access this list using x[2]. To change the 4, we target the second element within this list using x[2][1], and then assign it a new value, 5. This modifies the list inside the tuple, effectively changing the 4 to a 5 without violating the immutability of the tuple itself.\""
      ],
      "outputs": [
        {
          "output_type": "execute_result",
          "execution_count": 37,
          "data": {
            "text/plain": "(1, 2, [3, 5])"
          },
          "metadata": {}
        }
      ],
      "execution_count": 36,
      "metadata": {
        "nbgrader": {
          "grade": false,
          "grade_id": "cell-e2080daef3b6433a",
          "locked": true,
          "points": 2,
          "schema_version": 3,
          "solution": false,
          "task": true
        },
        "id": "f4d21de5-f9db-4f7d-8874-ca96ac0019c2",
        "colab": {
          "base_uri": "https://localhost:8080/"
        },
        "outputId": "63f2ceaf-4488-4e91-e175-11bee120d202"
      },
      "id": "f4d21de5-f9db-4f7d-8874-ca96ac0019c2"
    },
    {
      "cell_type": "markdown",
      "source": [
        "## Dictionaries\n",
        "\n",
        "### Task\n",
        "\n",
        "Let us make a small database.  You can use it for personal use.\n",
        "\n",
        "Let `biblio` be a list of books and articles that you are interested in.  At the beginning the list is empty.  We intend to put in this list dictionaries.  The dictionaries are actual records.  See below for an example.\n",
        "\n",
        "The key `authors` is a list of authors.  This is practical because some items might have multiple authors.\n"
      ],
      "metadata": {
        "nbgrader": {
          "grade": false,
          "grade_id": "cell-2d59ebd53a1eceda",
          "locked": true,
          "schema_version": 3,
          "solution": false,
          "task": false
        },
        "id": "7be39615-2a60-4faa-83d9-a5a7e2a2a619"
      },
      "id": "7be39615-2a60-4faa-83d9-a5a7e2a2a619"
    },
    {
      "cell_type": "code",
      "source": [
        "biblio = []                      # empty bibliography, for now\n",
        "\n",
        "biblio = [ {\"id\": \"skiena2017data\",\n",
        "            \"title\": \"The data science design manual\",\n",
        "            \"authors\": [\"Steven Skiena\"],\n",
        "            \"year\": 2017,\n",
        "            \"publisher\": \"Springer\"}\n",
        "         ]"
      ],
      "outputs": [],
      "execution_count": 37,
      "metadata": {
        "nbgrader": {
          "grade": false,
          "grade_id": "cell-2c7ba9d44e7aeefe",
          "locked": true,
          "schema_version": 3,
          "solution": false,
          "task": false
        },
        "id": "a60ef59c-9ea5-41a0-bdec-58e235b1c1e2"
      },
      "id": "a60ef59c-9ea5-41a0-bdec-58e235b1c1e2"
    },
    {
      "cell_type": "markdown",
      "source": [
        "Your task is to\n",
        "1. add a new record to `biblio` of your choice.\n",
        "2. add a new record to `biblio` with multiple authors.\n",
        "3. remove the record with `id` `skiena2017data`.\n",
        "4. print the record that you have added in task 2 above in the format \"[authors]: [title], [publisher], [year].\""
      ],
      "metadata": {
        "nbgrader": {
          "grade": false,
          "grade_id": "cell-74522369aea1552e",
          "locked": true,
          "schema_version": 3,
          "solution": false,
          "task": false
        },
        "id": "9c99367e-b2f6-4946-93b3-199d9fbf7163"
      },
      "id": "9c99367e-b2f6-4946-93b3-199d9fbf7163"
    },
    {
      "cell_type": "code",
      "source": [
        "biblio = []  # empty bibliography, for now\n",
        "\n",
        "biblio = [\n",
        "    {\n",
        "        \"id\": \"skiena2017data\",\n",
        "        \"title\": \"The data science design manual\",\n",
        "        \"authors\": [\"Steven Skiena\"],\n",
        "        \"year\": 2017,\n",
        "        \"publisher\": \"Springer\",\n",
        "    }\n",
        "]\n",
        "\n",
        "# 1.\n",
        "biblio.append(\n",
        "    {\n",
        "        \"id\": \"bestbook212\",\n",
        "        \"title\": \"the Promiss\",\n",
        "        \"authors\": [\"Diego Aguilar\", \"Walter Sandoval\", \"Ammy Canales\"],\n",
        "        \"year\": 2016,\n",
        "        \"publisher\": \"Aguilar Inc.\",\n",
        "    }\n",
        ")\n",
        "\n",
        "\n",
        "# 2.\n",
        "biblio.append(\n",
        "    {\n",
        "        \"id\": \"bestbook313\",\n",
        "        \"title\": \"How to pass Data Structure and Processing with 100%\",\n",
        "        \"authors\": [\"God\", \"Jesus\"],\n",
        "        \"year\": 2025,\n",
        "        \"publisher\": \"Jesus Christ\",\n",
        "    }\n",
        ")\n",
        "\n",
        "# 3. Remove the record with id 'skiena2017data'\n",
        "biblio = [record for record in biblio if record[\"id\"] != \"skiena2017data\"]\n",
        "\n",
        "\n",
        "# 4. Print the record added in task 2\n",
        "record_task2 = biblio[1]  # Assuming it's the second record after removing the first\n",
        "\n",
        "author_string = \", \".join(record_task2[\"authors\"])\n",
        "print(\n",
        "    f\"{author_string}: {record_task2['title']}, {record_task2['publisher']}, {record_task2['year']}\"\n",
        ")"
      ],
      "outputs": [
        {
          "output_type": "stream",
          "name": "stdout",
          "text": "God, Jesus: How to pass Data Structure and Processing with 100%, Jesus Christ, 2025\n"
        }
      ],
      "execution_count": 38,
      "metadata": {
        "nbgrader": {
          "grade": false,
          "grade_id": "cell-4debb1b89ea5d4ce",
          "locked": true,
          "points": 4,
          "schema_version": 3,
          "solution": false,
          "task": true
        },
        "id": "49f49240-17f1-4fe8-befe-a0ca86a65983"
      },
      "id": "49f49240-17f1-4fe8-befe-a0ca86a65983"
    },
    {
      "cell_type": "markdown",
      "source": [
        "# Final Remark\n",
        "\n",
        "There are a lot of subtopics that we are not covering.  We shall come back to them as we progress and use them implicitely. For now, it is a good point to finish practice for the first week.  You are encouraged to explore the topics or subtopics in builtin data structures you found interesting to see what you can build with them."
      ],
      "metadata": {
        "nbgrader": {
          "grade": false,
          "grade_id": "cell-c36b97cea68acd68",
          "locked": true,
          "schema_version": 3,
          "solution": false,
          "task": false
        },
        "id": "b7349ea7-4c0a-4640-b469-aa50a01eabd2"
      },
      "id": "b7349ea7-4c0a-4640-b469-aa50a01eabd2"
    },
    {
      "cell_type": "code",
      "source": [],
      "outputs": [],
      "execution_count": null,
      "metadata": {
        "id": "YTd4Xio5utha"
      },
      "id": "YTd4Xio5utha"
    }
  ],
  "metadata": {
    "kernelspec": {
      "name": "python",
      "language": "python",
      "display_name": "Pyolite (preview)"
    },
    "language_info": {
      "codemirror_mode": {
        "name": "python",
        "version": 3
      },
      "file_extension": ".py",
      "mimetype": "text/x-python",
      "name": "python",
      "nbconvert_exporter": "python",
      "pygments_lexer": "ipython3",
      "version": "3.8"
    },
    "toc-autonumbering": false,
    "toc-showcode": false,
    "toc-showmarkdowntxt": false,
    "nteract": {
      "version": "nteract-front-end@1.0.0"
    },
    "colab": {
      "provenance": []
    },
    "kernel_info": {
      "name": "python"
    }
  },
  "nbformat": 4,
  "nbformat_minor": 5
}