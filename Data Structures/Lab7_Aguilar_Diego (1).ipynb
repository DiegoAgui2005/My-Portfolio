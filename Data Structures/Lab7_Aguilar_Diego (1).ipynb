{
  "cells": [
    {
      "cell_type": "markdown",
      "source": [
        "# Data Structures and Processing\n",
        "\n",
        "## Week 9: Image Processing"
      ],
      "metadata": {
        "id": "9578795f-723e-46cc-b7f4-faed37e6858e"
      },
      "id": "9578795f-723e-46cc-b7f4-faed37e6858e"
    },
    {
      "cell_type": "markdown",
      "source": [
        "### Remarks:\n",
        "\n",
        "1. Install the libraries listed below using your package manager.  An example of installing the library `numpy` is to issue a the following command on a terminal (in Ubuntu) `python3 -m pip install numpy`.\n",
        "\n",
        "2. Make sure that you are following the conventions.  For examples, `import numpy as np`, which imports pandas packages and sets the abbreviation for it.\n",
        "\n",
        "3. Do not import the packages without the short names, unless it is intentional.  Doing so might lead to a namespace conflict, or unintended uses of functions coming from two libraries as a part of different implementations.\n",
        "\n",
        "4. We are assigning `None` to variables and use `pass` in the body of the functions, where we expect a solution from you.  Please replace these values and statements with your solution."
      ],
      "metadata": {
        "id": "e8b4d83d-aafa-4503-822b-25a9e318163f",
        "tags": []
      },
      "id": "e8b4d83d-aafa-4503-822b-25a9e318163f"
    },
    {
      "cell_type": "markdown",
      "source": [],
      "metadata": {
        "id": "4b0ad0f4"
      },
      "id": "4b0ad0f4"
    },
    {
      "cell_type": "markdown",
      "source": [
        "The exercises in this notebook are aligned with the material provided for the lecture."
      ],
      "metadata": {
        "id": "0c1d9d69-0a50-4804-93e5-113136c827ce"
      },
      "id": "0c1d9d69-0a50-4804-93e5-113136c827ce"
    },
    {
      "cell_type": "markdown",
      "source": [
        "### Load Libraries"
      ],
      "metadata": {
        "id": "b1aa9048-bfc7-4ee0-af22-fb0d78606569"
      },
      "id": "b1aa9048-bfc7-4ee0-af22-fb0d78606569"
    },
    {
      "cell_type": "code",
      "source": [
        "import numpy as np\n",
        "import matplotlib.pyplot as plt\n",
        "import imageio.v3 as iio\n",
        "import ipympl\n",
        "import skimage as ski"
      ],
      "outputs": [
        {
          "output_type": "error",
          "ename": "ModuleNotFoundError",
          "evalue": "No module named 'ipympl'",
          "traceback": [
            "\u001b[0;31m---------------------------------------------------------------------------\u001b[0m",
            "\u001b[0;31mModuleNotFoundError\u001b[0m                       Traceback (most recent call last)",
            "\u001b[0;32m<ipython-input-1-738230e2a004>\u001b[0m in \u001b[0;36m<cell line: 0>\u001b[0;34m()\u001b[0m\n\u001b[1;32m      2\u001b[0m \u001b[0;32mimport\u001b[0m \u001b[0mmatplotlib\u001b[0m\u001b[0;34m.\u001b[0m\u001b[0mpyplot\u001b[0m \u001b[0;32mas\u001b[0m \u001b[0mplt\u001b[0m\u001b[0;34m\u001b[0m\u001b[0;34m\u001b[0m\u001b[0m\n\u001b[1;32m      3\u001b[0m \u001b[0;32mimport\u001b[0m \u001b[0mimageio\u001b[0m\u001b[0;34m.\u001b[0m\u001b[0mv3\u001b[0m \u001b[0;32mas\u001b[0m \u001b[0miio\u001b[0m\u001b[0;34m\u001b[0m\u001b[0;34m\u001b[0m\u001b[0m\n\u001b[0;32m----> 4\u001b[0;31m \u001b[0;32mimport\u001b[0m \u001b[0mipympl\u001b[0m\u001b[0;34m\u001b[0m\u001b[0;34m\u001b[0m\u001b[0m\n\u001b[0m\u001b[1;32m      5\u001b[0m \u001b[0;32mimport\u001b[0m \u001b[0mskimage\u001b[0m \u001b[0;32mas\u001b[0m \u001b[0mski\u001b[0m\u001b[0;34m\u001b[0m\u001b[0;34m\u001b[0m\u001b[0m\n",
            "\u001b[0;31mModuleNotFoundError\u001b[0m: No module named 'ipympl'",
            "",
            "\u001b[0;31m---------------------------------------------------------------------------\u001b[0;32m\nNOTE: If your import is failing due to a missing package, you can\nmanually install dependencies using either !pip or !apt.\n\nTo view examples of installing some common dependencies, click the\n\"Open Examples\" button below.\n\u001b[0;31m---------------------------------------------------------------------------\u001b[0m\n"
          ]
        }
      ],
      "execution_count": 1,
      "metadata": {
        "id": "2512a105-8759-4def-90bd-37977472539a",
        "tags": [],
        "colab": {
          "base_uri": "https://localhost:8080/",
          "height": 366
        },
        "outputId": "1959fdc8-4f32-4961-847f-c82ce70bfabb"
      },
      "id": "2512a105-8759-4def-90bd-37977472539a"
    },
    {
      "cell_type": "markdown",
      "source": [
        "### Task 1: Arrays or Lists to Images (0.5p)\n",
        "\n",
        "A basic unit of  digital image is a pixel.  These pixels are arranged together in horizontal and vertical directions on a screen in a rectangular shape. This rectangular arrangement constitute an image. A pixel, on the other hand, is triplet of numbers. These numbers might have different ranges depending upon the kind of format used.  For example, an image having an `RGB` format has the numbers ranged between 0 and 255.\n",
        "\n",
        "An image seen as an arrangement of pixels, with pixels having a list of three numbers, does not have to involve `numpy` arrays, but rather it might be a list of nested lists with the inner most list having length 3.  The Python library `matplotlib`, then takes care of the necessary conversions to make sure that when the imags is plotted, then it is done exactly how it was meant to be.  If we work with the `numpy` arrays, then we can use the power of the library to use different methods, functions and access different attributes to better work with the images at hand.\n",
        "\n",
        "Your task is to create an numpy array named `img` with the shape `(3,4,3)` and display it in the notebook.  It is not important what type of numbers are filled in at the deepest level. For this you could generate those numbers randomly using `np.random`.\n"
      ],
      "metadata": {
        "id": "ced24119-c44a-4e5d-b468-2e6a46103ef0"
      },
      "id": "ced24119-c44a-4e5d-b468-2e6a46103ef0"
    },
    {
      "cell_type": "code",
      "source": [
        "# Your solutions goes here.\n",
        "\n",
        "img = None\n",
        "img = np.random.randint(0, 256, size=(3, 4, 3))\n",
        "# Display picture below.\n",
        "plt.imshow(img)\n",
        "plt.title(\"Imagen RGB aleatoria 3x4\")\n",
        "plt.axis('off')  # Ocultar ejes\n",
        "plt.show()\n",
        "print(img)"
      ],
      "outputs": [
        {
          "output_type": "display_data",
          "data": {
            "text/plain": "<Figure size 640x480 with 1 Axes>",
            "image/png": "[encoded data removed]"
          },
          "metadata": {}
        },
        {
          "output_type": "stream",
          "name": "stdout",
          "text": "[[[222 164 163]\n  [116 104 197]\n  [118 205 106]\n  [174 234 193]]\n\n [[116  94 180]\n  [197 165 108]\n  [ 11 236 243]\n  [ 62  62  78]]\n\n [[ 32 128  65]\n  [ 13 107 252]\n  [111  77   0]\n  [189  12 213]]]\n"
        }
      ],
      "execution_count": 31,
      "metadata": {
        "id": "894d035d-fe79-4291-8d95-027fbecd79be",
        "outputId": "51978ca4-a46a-4d3c-a215-0341d5de7ce3",
        "colab": {
          "base_uri": "https://localhost:8080/",
          "height": 671
        }
      },
      "id": "894d035d-fe79-4291-8d95-027fbecd79be"
    },
    {
      "cell_type": "markdown",
      "source": [
        "## Task 2: Color Channels (0.5p)\n",
        "\n",
        "Each pixel has three color channels: `red`, `green` and `blue`.  Given an image, if we want to remove a channel from it, then we have to put 0 at the corresponding place. This task of switching channels off becomes even simpler if we use the `numpy` arrays, because we can use their arithmetics to do so.\n",
        "\n",
        "In the following block, we define an `image` as a `numpy` array. Your task is to display three pictures with:\n",
        "1. `red` channel removed,\n",
        "2. `green` channel removed,\n",
        "3. `blue` channel removed.\n",
        "\n",
        "Generate extra blocks below if there is a need."
      ],
      "metadata": {
        "id": "b111cc37-26ce-423d-b2e8-018da87b9a3f"
      },
      "id": "b111cc37-26ce-423d-b2e8-018da87b9a3f"
    },
    {
      "cell_type": "code",
      "source": [
        "# Evaluate this block to make sure the variable is set to a correct value.\n",
        "\n",
        "image = np.array([[[112,160,124],[51,159,107],[243,146,17],[78,136,42],[248,1,123],[2,243,234],[34,172,157],[109,6,183],[224,147,3],[136,248,206]],[[34,156,245],[212,99,237],[67,127,58],[249,134,217],[245,161,83],[129,165,115],[41,19,153],[74,249,251],[99,186,100],[50,26,171]],[[210,246,125],[119,197,50],[68,221,250],[52,232,121],[210,141,248],[46,85,213],[221,3,61],[45,119,58],[106,102,92],[200,57,76]],[[14,126,116],[197,174,12],[201,118,10],[179,66,143],[4,133,91],[6,217,53],[92,163,110],[172,163,57],[112,99,182],[200,216,19]],[[105,183,48],[74,238,92],[8,129,153],[226,78,134],[70,122,12],[222,93,30],[229,144,56],[190,101,22],[237,180,217],[112,175,108]],[[55,69,169],[80,185,45],[88,174,186],[187,162,119],[150,165,86],[248,188,250],[2,109,48],[185,246,63],[1,167,101],[60,0,162]],[[70,115,127],[45,83,135],[133,166,115],[177,112,113],[85,117,47],[237,189,94],[36,201,174],[159,154,91],[13,121,67],[72,112,64]],[[202,161,68],[131,231,8],[208,32,66],[239,218,56],[50,160,171],[140,28,251],[168,0,22],[170,36,94],[98,241,219],[84,143,94]],[[237,118,109],[244,208,116],[168,123,136],[17,4,132],[237,63,85],[16,76,111],[144,79,133],[135,78,200],[173,105,225],[62,134,234]],[[7,6,211],[114,220,181],[173,127,40],[60,192,121],[170,143,70],[169,168,116],[100,124,208],[253,251,143],[136,99,88],[201,226,84]],[[249,215,242],[138,117,102],[223,5,147],[225,30,37],[148,233,202],[220,92,232],[97,93,223],[205,115,182],[169,54,92],[228,120,230]],[[170,77,125],[168,23,25],[190,150,48],[170,129,104],[52,24,225],[1,7,125],[252,150,24],[231,1,168],[1,66,189],[216,123,239]],[[174,93,71],[17,39,186],[91,186,66],[82,58,176],[25,211,186],[140,184,172],[0,82,155],[252,252,170],[119,84,58],[45,121,138]],[[126,77,80],[232,25,230],[89,241,168],[9,172,251],[169,35,29],[204,204,245],[159,40,73],[196,72,70],[4,35,247],[25,26,71]],[[96,208,147],[108,45,92],[123,192,234],[26,41,79],[113,236,101],[38,168,41],[104,242,252],[228,42,156],[14,54,228],[23,154,179]],[[26,68,124],[131,41,100],[31,247,59],[80,9,87],[128,213,86],[107,113,85],[41,189,209],[207,178,169],[253,225,57],[54,184,61]],[[183,69,224],[114,215,149],[141,5,76],[76,138,62],[52,101,199],[70,246,21],[65,227,157],[216,114,156],[153,62,11],[241,202,12]],[[40,121,60],[39,199,2],[98,7,29],[6,7,42],[234,185,224],[71,170,158],[252,194,147],[221,28,204],[137,70,233],[172,249,235]],[[73,118,175],[126,109,179],[33,222,16],[202,243,209],[132,244,157],[135,20,145],[161,2,203],[65,253,96],[102,130,239],[157,220,5]],[[96,8,199],[128,49,254],[162,196,159],[150,177,254],[89,159,100],[185,73,150],[209,100,127],[159,197,49],[217,0,141],[239,32,9]]])\n",
        "image.shape\n"
      ],
      "outputs": [
        {
          "output_type": "execute_result",
          "execution_count": 32,
          "data": {
            "text/plain": "(20, 10, 3)"
          },
          "metadata": {}
        }
      ],
      "execution_count": 32,
      "metadata": {
        "id": "8ff6d4c7-995d-475a-9b47-9c92776c8e70",
        "colab": {
          "base_uri": "https://localhost:8080/"
        },
        "outputId": "17ab8621-d10d-4989-cc0f-0c9e9ed01ef2"
      },
      "id": "8ff6d4c7-995d-475a-9b47-9c92776c8e70"
    },
    {
      "cell_type": "code",
      "source": [
        "# Your solution to red channel removed.\n",
        "img_r = np.copy(image)\n",
        "img_r[:,:,0] = 0"
      ],
      "outputs": [],
      "execution_count": 33,
      "metadata": {
        "id": "0f7e5ebb-a24c-4706-b849-46f9a0678931"
      },
      "id": "0f7e5ebb-a24c-4706-b849-46f9a0678931"
    },
    {
      "cell_type": "code",
      "source": [
        "# Your solution to green channel removed.\n",
        "img_r = np.copy(image)\n",
        "img_r[:,:,1] = 0\n"
      ],
      "outputs": [],
      "execution_count": 5,
      "metadata": {
        "id": "3588ab8a-855a-43c4-9901-e60d53d0e835"
      },
      "id": "3588ab8a-855a-43c4-9901-e60d53d0e835"
    },
    {
      "cell_type": "code",
      "source": [
        "# Your solution to blue channel removed.\n",
        "img_r = np.copy(image)\n",
        "img_r[:,:,2] = 0\n"
      ],
      "outputs": [],
      "execution_count": 6,
      "metadata": {
        "id": "d04b6a1b-55d8-4d96-985b-c0630570cc9d"
      },
      "id": "d04b6a1b-55d8-4d96-985b-c0630570cc9d"
    },
    {
      "cell_type": "markdown",
      "source": [
        "## Task 3: Manipulating Pixels (0.5p)\n",
        "\n",
        "Reconsider the example of `numpy` array `image` from a previous task. To make sure that the value of this arrays reverts back to our desired value, we provide it below one more time.\n",
        "\n",
        "Your task is to replace each individual number in a pixel with the average value of the pixel and display the image. For this, define a new array `image_avg` obtained by averaging, as just desribed."
      ],
      "metadata": {
        "id": "e61946d3-bf3c-4acb-aca0-fdd0833d47af"
      },
      "id": "e61946d3-bf3c-4acb-aca0-fdd0833d47af"
    },
    {
      "cell_type": "code",
      "source": [
        "# Your solution goes here.\n",
        "\n",
        "image = np.array([[[112,160,124],[51,159,107],[243,146,17],[78,136,42],[248,1,123],[2,243,234],[34,172,157],[109,6,183],[224,147,3],[136,248,206]],[[34,156,245],[212,99,237],[67,127,58],[249,134,217],[245,161,83],[129,165,115],[41,19,153],[74,249,251],[99,186,100],[50,26,171]],[[210,246,125],[119,197,50],[68,221,250],[52,232,121],[210,141,248],[46,85,213],[221,3,61],[45,119,58],[106,102,92],[200,57,76]],[[14,126,116],[197,174,12],[201,118,10],[179,66,143],[4,133,91],[6,217,53],[92,163,110],[172,163,57],[112,99,182],[200,216,19]],[[105,183,48],[74,238,92],[8,129,153],[226,78,134],[70,122,12],[222,93,30],[229,144,56],[190,101,22],[237,180,217],[112,175,108]],[[55,69,169],[80,185,45],[88,174,186],[187,162,119],[150,165,86],[248,188,250],[2,109,48],[185,246,63],[1,167,101],[60,0,162]],[[70,115,127],[45,83,135],[133,166,115],[177,112,113],[85,117,47],[237,189,94],[36,201,174],[159,154,91],[13,121,67],[72,112,64]],[[202,161,68],[131,231,8],[208,32,66],[239,218,56],[50,160,171],[140,28,251],[168,0,22],[170,36,94],[98,241,219],[84,143,94]],[[237,118,109],[244,208,116],[168,123,136],[17,4,132],[237,63,85],[16,76,111],[144,79,133],[135,78,200],[173,105,225],[62,134,234]],[[7,6,211],[114,220,181],[173,127,40],[60,192,121],[170,143,70],[169,168,116],[100,124,208],[253,251,143],[136,99,88],[201,226,84]],[[249,215,242],[138,117,102],[223,5,147],[225,30,37],[148,233,202],[220,92,232],[97,93,223],[205,115,182],[169,54,92],[228,120,230]],[[170,77,125],[168,23,25],[190,150,48],[170,129,104],[52,24,225],[1,7,125],[252,150,24],[231,1,168],[1,66,189],[216,123,239]],[[174,93,71],[17,39,186],[91,186,66],[82,58,176],[25,211,186],[140,184,172],[0,82,155],[252,252,170],[119,84,58],[45,121,138]],[[126,77,80],[232,25,230],[89,241,168],[9,172,251],[169,35,29],[204,204,245],[159,40,73],[196,72,70],[4,35,247],[25,26,71]],[[96,208,147],[108,45,92],[123,192,234],[26,41,79],[113,236,101],[38,168,41],[104,242,252],[228,42,156],[14,54,228],[23,154,179]],[[26,68,124],[131,41,100],[31,247,59],[80,9,87],[128,213,86],[107,113,85],[41,189,209],[207,178,169],[253,225,57],[54,184,61]],[[183,69,224],[114,215,149],[141,5,76],[76,138,62],[52,101,199],[70,246,21],[65,227,157],[216,114,156],[153,62,11],[241,202,12]],[[40,121,60],[39,199,2],[98,7,29],[6,7,42],[234,185,224],[71,170,158],[252,194,147],[221,28,204],[137,70,233],[172,249,235]],[[73,118,175],[126,109,179],[33,222,16],[202,243,209],[132,244,157],[135,20,145],[161,2,203],[65,253,96],[102,130,239],[157,220,5]],[[96,8,199],[128,49,254],[162,196,159],[150,177,254],[89,159,100],[185,73,150],[209,100,127],[159,197,49],[217,0,141],[239,32,9]]])\n",
        "image.shape\n",
        "image_avg = None\n",
        "# Display the resulting array\n",
        "image_avg = np.mean(image, axis=2, keepdims=True)\n",
        "\n",
        "image_avg = np.repeat(image_avg, 3, axis=2)\n",
        "\n",
        "\n",
        "plt.imshow(image_avg.astype(np.uint8))\n",
        "plt.axis('off')\n",
        "plt.title('Image with Average Pixel Value')\n",
        "plt.show()"
      ],
      "outputs": [
        {
          "output_type": "display_data",
          "data": {
            "text/plain": "<Figure size 640x480 with 1 Axes>",
            "image/png": "[encoded data removed]"
          },
          "metadata": {}
        }
      ],
      "execution_count": 34,
      "metadata": {
        "id": "8a0e303e-10d3-4587-acbe-a2c4172bcfce",
        "colab": {
          "base_uri": "https://localhost:8080/",
          "height": 428
        },
        "outputId": "2f0895ef-3e3a-4a4c-d72f-ca1e80fa5ebc"
      },
      "id": "8a0e303e-10d3-4587-acbe-a2c4172bcfce"
    },
    {
      "cell_type": "markdown",
      "source": [
        "## Task 4: Saving Images to files(1p)\n",
        "\n",
        "Reconsider the previous task, where you have created an image by averaging different channels.\n",
        "\n",
        "Your task is to store the image to a file named `random-image-01.jpg`."
      ],
      "metadata": {
        "id": "a133cb71-245a-406f-8a69-f460025c7d6a"
      },
      "id": "a133cb71-245a-406f-8a69-f460025c7d6a"
    },
    {
      "cell_type": "code",
      "source": [
        "# Your solution goes here.\n",
        "image_avg = np.mean(image, axis=2, keepdims=True)\n",
        "\n",
        "# Create a new image where each pixel value is replaced by the average value\n",
        "image_avg = np.repeat(image_avg, 3, axis=2)\n",
        "\n",
        "# Save the image to a file\n",
        "plt.imsave('random-image-01.jpg', image_avg.astype(np.uint8))\n",
        "\n",
        "print(\"Image saved successfully!\")"
      ],
      "outputs": [
        {
          "output_type": "stream",
          "name": "stdout",
          "text": "Image saved successfully!\n"
        }
      ],
      "execution_count": 10,
      "metadata": {
        "id": "bd1a60b0-a0b0-4e34-8444-2df5fed9702d",
        "outputId": "685a780e-1f5c-481a-e9d5-f3a330042761",
        "colab": {
          "base_uri": "https://localhost:8080/"
        }
      },
      "id": "bd1a60b0-a0b0-4e34-8444-2df5fed9702d"
    },
    {
      "cell_type": "markdown",
      "source": [
        "## Task 5: Reading Images in from files (1p)\n",
        "\n",
        "We provide an image `beads.jpg` with this notebook. Any other image would do the job too.\n",
        "\n",
        "Your task is to\n",
        "1. read an image to a variable `image` using the Python library called `imageio`,\n",
        "2. obtain a new array `image_r` that contains only the `red` channel.\n",
        "3. save the `image_r` to a file named `beads_r.png`."
      ],
      "metadata": {
        "id": "8f7f0d57-f5df-4292-8448-232008e42257"
      },
      "id": "8f7f0d57-f5df-4292-8448-232008e42257"
    },
    {
      "cell_type": "code",
      "source": [
        "# Your solution goes here\n",
        "image = iio.imread('beads.jpg')\n",
        "\n",
        "\n",
        "image_r = np.copy(image)\n",
        "image_r[:,:,1:] = 0\n",
        "\n",
        "iio.imwrite('beads_r.png', image_r)\n"
      ],
      "outputs": [],
      "execution_count": 12,
      "metadata": {
        "id": "16aeba86-72be-4c01-a382-af3af27ea407"
      },
      "id": "16aeba86-72be-4c01-a382-af3af27ea407"
    },
    {
      "cell_type": "markdown",
      "source": [
        "## Task 6: Image I/O and Manipulation (0.5p)\n",
        "\n",
        "Define a function `image_averaged` with two string arguments: `file_in` and `file_out`. This function must do the following\n",
        "\n",
        "1. reads the image pointed to by the path `file_in`,\n",
        "2. averages each pixel using the channels in that pixel,\n",
        "3. saves the averaged array as a image to a file using `file_out`,\n",
        "4. returns `file_out`"
      ],
      "metadata": {
        "id": "808d2d1a-fd4d-4b61-ad52-3323a97982cb"
      },
      "id": "808d2d1a-fd4d-4b61-ad52-3323a97982cb"
    },
    {
      "cell_type": "code",
      "source": [
        "# Your solution goes here.\n",
        "def image_averaged(file_in, file_out):\n",
        "    image = iio.imread(file_in)\n",
        "    image_avg = np.mean(image, axis=2, keepdims=True)\n",
        "    image_avg = np.repeat(image_avg, 3, axis=2)\n",
        "    iio.imwrite(file_out, image_avg.astype(np.uint8))\n",
        "    return file_out\n"
      ],
      "outputs": [],
      "execution_count": 13,
      "metadata": {
        "id": "e19dfd41-c042-48cd-af35-568b1b5aef5b"
      },
      "id": "e19dfd41-c042-48cd-af35-568b1b5aef5b"
    },
    {
      "cell_type": "code",
      "source": [
        "# Test your function `image_averaged` on a sample file `beads.jpg`.\n",
        "input_file = 'beads.jpg'\n",
        "output_file = 'beads_averaged.png'\n",
        "\n",
        "result_file = image_averaged(input_file, output_file)\n",
        "print(\"Averaged image saved to:\", result_file)"
      ],
      "outputs": [
        {
          "output_type": "stream",
          "name": "stdout",
          "text": "Averaged image saved to: beads_averaged.png\n"
        }
      ],
      "execution_count": 14,
      "metadata": {
        "id": "4ad9a7a5-ad09-4b17-8a95-ef8176f63e65",
        "outputId": "5545d39d-e3c5-44ac-afb8-1cb9e5a6d967",
        "colab": {
          "base_uri": "https://localhost:8080/"
        }
      },
      "id": "4ad9a7a5-ad09-4b17-8a95-ef8176f63e65"
    },
    {
      "cell_type": "markdown",
      "source": [
        "## Task 7: Image Manipulation: Crop or Slice (1p)\n",
        "\n",
        "Write down a function named `image_right_half` that takes two arguments `file_in` and `file_out` and it does the following:\n",
        "\n",
        "1. reads the image `file_in`,\n",
        "2. crops the right half of the image,\n",
        "3. saves the new image to `file_out`,\n",
        "4. returns `file_out`."
      ],
      "metadata": {
        "id": "da11cd2b-af73-4ea0-8167-0d0a730d87c0"
      },
      "id": "da11cd2b-af73-4ea0-8167-0d0a730d87c0"
    },
    {
      "cell_type": "code",
      "source": [
        "# Your solutios goes here.\n",
        "def image_right_half(file_in, file_out):\n",
        "    image = iio.imread(file_in)\n",
        "    width = image.shape[1]\n",
        "    image_cropped = image[:, width//2:, :]\n",
        "    iio.imwrite(file_out, image_cropped.astype(np.uint8))\n",
        "    return file_out"
      ],
      "outputs": [],
      "execution_count": 15,
      "metadata": {
        "id": "b0853af0-380f-4f9a-81aa-d1daaae85680"
      },
      "id": "b0853af0-380f-4f9a-81aa-d1daaae85680"
    },
    {
      "cell_type": "code",
      "source": [
        "# Test your function `image_right_half` on a sample file `beads.jpg`\n",
        "input_file = 'beads.jpg'\n",
        "output_file = 'beads_right_half.png'\n",
        "\n",
        "result_file = image_right_half(input_file, output_file)\n",
        "print(\"Right half image saved to:\", result_file)\n"
      ],
      "outputs": [
        {
          "output_type": "stream",
          "name": "stdout",
          "text": "Right half image saved to: beads_right_half.png\n"
        }
      ],
      "execution_count": 16,
      "metadata": {
        "id": "57a77672-75d8-4f69-89ff-c78fcdbf9980",
        "outputId": "8053a20c-b991-4a69-987f-840dccbbba9b",
        "colab": {
          "base_uri": "https://localhost:8080/"
        }
      },
      "id": "57a77672-75d8-4f69-89ff-c78fcdbf9980"
    },
    {
      "cell_type": "markdown",
      "source": [
        "## Task 8: Image Manipulation: Masking (1p)\n",
        "\n",
        "Masking might be an expensive operation, because it amounts to turning of undesired values in pixels.  It might be even slower, if we worked with a huge image and tried to view the image in this Jupyter notebook.\n",
        "\n",
        "Your task is to write down a function `image_mask`, which takes six arguments:\n",
        "\n",
        "1. `file_in`: image to be read in.\n",
        "2. `file_out`: image to be written to.\n",
        "3. `x1,y1` the upper right corner of the rectangle for the mask.\n",
        "4. `x2,y2` lower right corder or the rentangle for the mask.\n",
        "\n",
        "The function `image_mask` takes the `file_in` applies the mask and then writes the resulting image to `file_out`."
      ],
      "metadata": {
        "id": "51bf934e-3e52-48ed-b9f2-3d3aafcc90b9"
      },
      "id": "51bf934e-3e52-48ed-b9f2-3d3aafcc90b9"
    },
    {
      "cell_type": "code",
      "source": [
        "# Your solution goes here.\n",
        "\n",
        "def image_mask( file_in, file_out, x1, y1, x2, y2):\n",
        "    image = iio.imread(file_in)\n",
        "    mask = np.zeros_like(image)\n",
        "    mask[y1:y2, x1:x2, :] = 1\n",
        "    masked_image = image * mask\n",
        "    iio.imwrite(file_out, masked_image.astype(np.uint8))\n",
        "    return file_out"
      ],
      "outputs": [],
      "execution_count": 17,
      "metadata": {
        "id": "9ac767ca-f42d-4563-86ba-d98d2412731c"
      },
      "id": "9ac767ca-f42d-4563-86ba-d98d2412731c"
    },
    {
      "cell_type": "code",
      "source": [
        "# Test your function on a sample image.\n",
        "input_file = 'beads.jpg'\n",
        "output_file = 'masked_image.jpg'\n",
        "x1, y1 = 100, 100\n",
        "x2, y2 = 200, 200\n",
        "\n",
        "result_file = image_mask(input_file, output_file, x1, y1, x2, y2)\n",
        "print(\"Masked image saved to:\", result_file)"
      ],
      "outputs": [
        {
          "output_type": "stream",
          "name": "stdout",
          "text": "Masked image saved to: masked_image.jpg\n"
        }
      ],
      "execution_count": 18,
      "metadata": {
        "id": "d3b331eb-b911-4b69-97d4-ca8946c279df",
        "outputId": "00fdb8af-30c5-4ac7-89e0-3a6ff7ac8d26",
        "colab": {
          "base_uri": "https://localhost:8080/"
        }
      },
      "id": "d3b331eb-b911-4b69-97d4-ca8946c279df"
    },
    {
      "cell_type": "markdown",
      "source": [
        "## Task 9: Histograms (0.5p)\n",
        "\n",
        "Write down a function `image_hist_red` that takes the two arguments: `file_in` and `file_out`.  This function plots a histrogram of the `red` channel and stores it in `file_out`."
      ],
      "metadata": {
        "id": "5d916ac6-2a9c-4958-a372-11d8097fa59f"
      },
      "id": "5d916ac6-2a9c-4958-a372-11d8097fa59f"
    },
    {
      "cell_type": "code",
      "source": [
        "# Your solution goes here.\n",
        "\n",
        "def image_hist_red (file_in, file_out):\n",
        "    image = iio.imread(file_in)\n",
        "    red_channel = image[:,:,0].ravel()\n",
        "    plt.hist(red_channel, bins=range(256), color='red', alpha=0.7)\n",
        "    plt.xlabel('Red Intensity')\n",
        "    plt.ylabel('Frequency')\n",
        "    plt.title('Histogram of Red Channel')\n",
        "    plt.savefig(file_out)\n",
        "    plt.close()\n",
        "    return file_out"
      ],
      "outputs": [],
      "execution_count": 19,
      "metadata": {
        "id": "20c01b78-b3d2-4e85-b82d-6a8f788af912"
      },
      "id": "20c01b78-b3d2-4e85-b82d-6a8f788af912"
    },
    {
      "cell_type": "code",
      "source": [
        "# Test your function `image_hist_red` on a sample image.\n",
        "input_file = 'beads.jpg'\n",
        "output_file = 'red_histogram.png'\n",
        "\n",
        "result_file = image_hist_red(input_file, output_file)\n",
        "print(\"Histogram of red channel saved to:\", result_file)"
      ],
      "outputs": [
        {
          "output_type": "stream",
          "name": "stdout",
          "text": "Histogram of red channel saved to: red_histogram.png\n"
        }
      ],
      "execution_count": 20,
      "metadata": {
        "id": "45d199fc-f33f-4848-81e9-940387a923d3",
        "outputId": "74ca779d-d601-4785-8c28-50025e833067",
        "colab": {
          "base_uri": "https://localhost:8080/"
        }
      },
      "id": "45d199fc-f33f-4848-81e9-940387a923d3"
    },
    {
      "cell_type": "markdown",
      "source": [
        "## Task 10: Object Identification (1p)\n",
        "\n",
        "Consider the image `sudoku.png` in the attachment to this notebook.\n",
        "\n",
        "Write down a function `image_object_count` that takes a `file_in` as the only argument and returns the number of objects on it.\n",
        "\n",
        "For help, please refer to the associated lecture material."
      ],
      "metadata": {
        "id": "a3f9f47b-e1bd-4cfd-ada4-bd5715cb4216"
      },
      "id": "a3f9f47b-e1bd-4cfd-ada4-bd5715cb4216"
    },
    {
      "cell_type": "code",
      "source": [
        "# Your solution goes here\n",
        "import imageio.v3 as iio\n",
        "import numpy as np\n",
        "from scipy import ndimage\n",
        "\n",
        "def image_object_count(file_in):\n",
        "    image = iio.imread(file_in, mode='L')\n",
        "    binary = image < 128\n",
        "    labeled_array, num_objects = ndimage.label(binary)\n",
        "    return num_objects"
      ],
      "outputs": [],
      "execution_count": 22,
      "metadata": {
        "id": "835aed81-4c4c-4914-a05b-e499b6f1d65c"
      },
      "id": "835aed81-4c4c-4914-a05b-e499b6f1d65c"
    },
    {
      "cell_type": "code",
      "source": [
        "# Test your function against the image sudoku.png\n",
        "# Your function should return 29\n",
        "file_in = 'sudoku.png'\n",
        "print(\"Object count:\", image_object_count(file_in))\n"
      ],
      "outputs": [
        {
          "output_type": "stream",
          "name": "stdout",
          "text": "Object count: 29\n"
        }
      ],
      "execution_count": 24,
      "metadata": {
        "id": "d96b902f-2dd6-416b-bc5c-e9731a1252c9",
        "colab": {
          "base_uri": "https://localhost:8080/"
        },
        "outputId": "355ba1b2-d553-487d-d097-af7b3e5dfba4"
      },
      "id": "d96b902f-2dd6-416b-bc5c-e9731a1252c9"
    },
    {
      "cell_type": "markdown",
      "source": [
        "## Task 11: Interactive Color Channel Adjustment (1p)\n",
        "\n",
        " In this exercise, you'll create an interactive tool that allows users to adjust\n",
        " the intensity of color channels in an image using sliders. This is similar to\n",
        " color adjustment tools in photo editing software.\n",
        "\n",
        " The function `update_color` takes three parameters for red, green, and blue channel\n",
        " multipliers and displays the modified image in real time. The slider widgets allow\n",
        " users to interactively change these values.\n",
        "\n",
        "# Your task is to:\n",
        " 1. Load an image (e.g., 'beads.jpg') before running this code\n",
        " 2. Study the `update_color` function to understand how it works\n",
        " 3. Run the code to see how interactive widgets affect the image\n",
        " 4. Modify the code to add a brightness slider (hint: add a constant value to all channels)\n",
        " 5. Try creating a contrast adjustment slider (hint: use the formula: pixel = (pixel - 128) * contrast + 128)\n",
        "\n",
        " First, make sure you've loaded an image:\n",
        " image = iio.imread('beads.jpg')\n"
      ],
      "metadata": {
        "id": "b7a6c279"
      },
      "id": "b7a6c279"
    },
    {
      "cell_type": "code",
      "source": [
        "\n",
        "import ipywidgets as widgets\n",
        "from IPython.display import display\n",
        "import numpy as np\n",
        "import matplotlib.pyplot as plt\n",
        "\n",
        "image = iio.imread('beads.jpg')\n",
        "def update_color(red=1.0, green=1.0, blue=1.0, brightness=0, contrast=1.0):\n",
        "    img_mod = image.astype(np.float32).copy()\n",
        "\n",
        "    img_mod[..., 0] *= red\n",
        "    img_mod[..., 1] *= green\n",
        "    img_mod[..., 2] *= blue\n",
        "\n",
        "\n",
        "    img_mod = (img_mod - 128) * contrast + 128 + brightness\n",
        "\n",
        "\n",
        "    img_mod = np.clip(img_mod, 0, 255).astype(np.uint8)\n",
        "\n",
        "\n",
        "    plt.imshow(img_mod)\n",
        "    plt.axis('off')\n",
        "    plt.title(\"Adjusted Image\")\n",
        "    plt.show()\n",
        "\n",
        "\n",
        "red_slider = widgets.FloatSlider(value=1.0, min=0, max=2, step=0.1, description='Red')\n",
        "green_slider = widgets.FloatSlider(value=1.0, min=0, max=2, step=0.1, description='Green')\n",
        "blue_slider = widgets.FloatSlider(value=1.0, min=0, max=2, step=0.1, description='Blue')\n",
        "brightness_slider = widgets.IntSlider(value=0, min=-100, max=100, step=1, description='Brightness')\n",
        "contrast_slider = widgets.FloatSlider(value=1.0, min=0.5, max=3.0, step=0.1, description='Contrast')\n",
        "\n",
        "ui = widgets.VBox([red_slider, green_slider, blue_slider, brightness_slider, contrast_slider])\n",
        "widgets.interact(update_color, red=red_slider, green=green_slider, blue=blue_slider,\n",
        "                 brightness=brightness_slider, contrast=contrast_slider);\n"
      ],
      "outputs": [
        {
          "output_type": "display_data",
          "data": {
            "text/plain": "interactive(children=(FloatSlider(value=1.0, description='Red', max=2.0), FloatSlider(value=1.0, description='…",
            "application/vnd.jupyter.widget-view+json": {
              "version_major": 2,
              "version_minor": 0,
              "model_id": "41d7c00b119f43719d22bbc0db6ce2d9"
            }
          },
          "metadata": {}
        }
      ],
      "execution_count": 27,
      "metadata": {
        "id": "91ae88ba",
        "colab": {
          "base_uri": "https://localhost:8080/",
          "height": 587,
          "referenced_widgets": [
            "41d7c00b119f43719d22bbc0db6ce2d9",
            "0e5d620b2dcd4405959587b32c181e31",
            "6d6ff020f52b4e7cbf80d871ae72edfb",
            "d40288c989e9467f826c0f3efb0a1d4a",
            "fe7f3152056a438484423d202025b178",
            "c33057191ad149c0956321b2a47f79b6",
            "1b07e738d8524340ba910233a57d9359",
            "f4c952961dd348738972a95d59937844",
            "e14f4e11280e44e98af98091be884a12",
            "b1b189a0a6444d2bbe70eab04742d1c7",
            "d885140cd395448e82947ab44b60f3a0",
            "ad4708faf2fb4af89d541eceba09f7fc",
            "b5f7cbf97fa04ae98f6b1085bb843bc9",
            "437517600aed4fb1acf0e11122d5a4f9",
            "dbd6de844b924a248cfdd89f00bed4d5",
            "dad13e88947547b980edaf011eeb2454",
            "10c33fa1c5b84dc98f6b3edf691f4cfc",
            "f392c3d8f1d54e749a9755d4fab77012",
            "71305927361142fcab4d34b6e41856b6"
          ]
        },
        "outputId": "cb922d99-20fc-49e1-efd9-f3c128daa537"
      },
      "id": "91ae88ba"
    },
    {
      "cell_type": "markdown",
      "source": [
        "## Task 12: Image Blending (1p)\n",
        "\n",
        "Write a function `blend_images` that:\n",
        "1. Takes three parameters: `file_in1`, `file_in2`, and `file_out`\n",
        "2. Reads two images from `file_in1` and `file_in2`\n",
        "3. Resizes the second image to match the dimensions of the first if necessary\n",
        "4. Creates a weighted blend of the two images (50% of each)\n",
        "5. Saves the blended image to `file_out`\n",
        "6. Returns the blended image\n",
        "\n"
      ],
      "metadata": {
        "id": "77cd0f2b"
      },
      "id": "77cd0f2b"
    },
    {
      "cell_type": "code",
      "source": [
        "from skimage.transform import resize\n",
        "import imageio.v3 as iio\n",
        "import numpy as np\n",
        "\n",
        "def blend_images(file_in1, file_in2, file_out, alpha=0.5):\n",
        "    img1 = iio.imread(file_in1).astype(np.float32)\n",
        "    img2 = iio.imread(file_in2).astype(np.float32)\n",
        "\n",
        "    if img1.shape != img2.shape:\n",
        "        img2 = resize(img2, img1.shape, preserve_range=True)\n",
        "\n",
        "    blended = (alpha * img1 + (1 - alpha) * img2).astype(np.uint8)\n",
        "\n",
        "    iio.imwrite(file_out, blended)\n",
        "    return blended\n",
        "\n",
        "blended_result = blend_images('beads.jpg', 'sudoku.png', 'blended_output.png', alpha=0.5)\n",
        "plt.show()\n"
      ],
      "outputs": [],
      "execution_count": 30,
      "metadata": {
        "id": "2b36b944"
      },
      "id": "2b36b944"
    },
    {
      "cell_type": "code",
      "source": [],
      "outputs": [],
      "execution_count": null,
      "metadata": {
        "id": "D1j-xlTbdcf4"
      },
      "id": "D1j-xlTbdcf4"
    }
  ],
  "metadata": {
    "colab": {
      "provenance": []
    },
    "kernelspec": {
      "name": "python",
      "language": "python",
      "display_name": "Pyolite (preview)"
    },
    "language_info": {
      "codemirror_mode": {
        "name": "python",
        "version": 3
      },
      "file_extension": ".py",
      "mimetype": "text/x-python",
      "name": "python",
      "nbconvert_exporter": "python",
      "pygments_lexer": "ipython3",
      "version": "3.8"
    },
    "name": "week8.ipynb",
    "widgets": {
      "application/vnd.jupyter.widget-state+json": {
        "f4c952961dd348738972a95d59937844": {
          "model_module": "@jupyter-widgets/base",
          "model_name": "LayoutModel",
          "model_module_version": "1.2.0",
          "state": {
            "_view_module_version": "1.2.0",
            "_model_name": "LayoutModel",
            "grid_row": null,
            "_model_module": "@jupyter-widgets/base",
            "overflow": null,
            "max_height": null,
            "display": null,
            "grid_auto_flow": null,
            "grid_template_rows": null,
            "align_self": null,
            "grid_auto_columns": null,
            "width": null,
            "grid_area": null,
            "align_items": null,
            "_view_name": "LayoutView",
            "left": null,
            "height": null,
            "_view_module": "@jupyter-widgets/base",
            "object_position": null,
            "justify_content": null,
            "bottom": null,
            "max_width": null,
            "border": null,
            "margin": null,
            "order": null,
            "grid_column": null,
            "grid_auto_rows": null,
            "padding": null,
            "grid_template_columns": null,
            "justify_items": null,
            "object_fit": null,
            "visibility": null,
            "_view_count": null,
            "flex_flow": null,
            "min_height": null,
            "top": null,
            "min_width": null,
            "flex": null,
            "_model_module_version": "1.2.0",
            "grid_template_areas": null,
            "overflow_x": null,
            "right": null,
            "overflow_y": null,
            "grid_gap": null,
            "align_content": null
          }
        },
        "ad4708faf2fb4af89d541eceba09f7fc": {
          "model_module": "@jupyter-widgets/controls",
          "model_name": "SliderStyleModel",
          "model_module_version": "1.5.0",
          "state": {
            "_view_module_version": "1.2.0",
            "_model_name": "SliderStyleModel",
            "_model_module": "@jupyter-widgets/controls",
            "description_width": "",
            "_view_name": "StyleView",
            "_view_module": "@jupyter-widgets/base",
            "handle_color": null,
            "_view_count": null,
            "_model_module_version": "1.5.0"
          }
        },
        "6d6ff020f52b4e7cbf80d871ae72edfb": {
          "model_module": "@jupyter-widgets/controls",
          "model_name": "FloatSliderModel",
          "model_module_version": "1.5.0",
          "state": {
            "_view_module_version": "1.5.0",
            "description_tooltip": null,
            "_model_name": "FloatSliderModel",
            "_model_module": "@jupyter-widgets/controls",
            "max": 2,
            "_view_name": "FloatSliderView",
            "_view_module": "@jupyter-widgets/controls",
            "_dom_classes": [],
            "layout": "IPY_MODEL_d885140cd395448e82947ab44b60f3a0",
            "step": 0.1,
            "orientation": "horizontal",
            "value": 0.5,
            "style": "IPY_MODEL_ad4708faf2fb4af89d541eceba09f7fc",
            "min": 0,
            "_view_count": null,
            "readout": true,
            "continuous_update": true,
            "_model_module_version": "1.5.0",
            "disabled": false,
            "description": "Green",
            "readout_format": ".2f"
          }
        },
        "c33057191ad149c0956321b2a47f79b6": {
          "model_module": "@jupyter-widgets/controls",
          "model_name": "FloatSliderModel",
          "model_module_version": "1.5.0",
          "state": {
            "_view_module_version": "1.5.0",
            "description_tooltip": null,
            "_model_name": "FloatSliderModel",
            "_model_module": "@jupyter-widgets/controls",
            "max": 3,
            "_view_name": "FloatSliderView",
            "_view_module": "@jupyter-widgets/controls",
            "_dom_classes": [],
            "layout": "IPY_MODEL_10c33fa1c5b84dc98f6b3edf691f4cfc",
            "step": 0.1,
            "orientation": "horizontal",
            "value": 1.6,
            "style": "IPY_MODEL_f392c3d8f1d54e749a9755d4fab77012",
            "min": 0.5,
            "_view_count": null,
            "readout": true,
            "continuous_update": true,
            "_model_module_version": "1.5.0",
            "disabled": false,
            "description": "Contrast",
            "readout_format": ".2f"
          }
        },
        "d40288c989e9467f826c0f3efb0a1d4a": {
          "model_module": "@jupyter-widgets/controls",
          "model_name": "FloatSliderModel",
          "model_module_version": "1.5.0",
          "state": {
            "_view_module_version": "1.5.0",
            "description_tooltip": null,
            "_model_name": "FloatSliderModel",
            "_model_module": "@jupyter-widgets/controls",
            "max": 2,
            "_view_name": "FloatSliderView",
            "_view_module": "@jupyter-widgets/controls",
            "_dom_classes": [],
            "layout": "IPY_MODEL_b5f7cbf97fa04ae98f6b1085bb843bc9",
            "step": 0.1,
            "orientation": "horizontal",
            "value": 1.4,
            "style": "IPY_MODEL_437517600aed4fb1acf0e11122d5a4f9",
            "min": 0,
            "_view_count": null,
            "readout": true,
            "continuous_update": true,
            "_model_module_version": "1.5.0",
            "disabled": false,
            "description": "Blue",
            "readout_format": ".2f"
          }
        },
        "b1b189a0a6444d2bbe70eab04742d1c7": {
          "model_module": "@jupyter-widgets/controls",
          "model_name": "SliderStyleModel",
          "model_module_version": "1.5.0",
          "state": {
            "_view_module_version": "1.2.0",
            "_model_name": "SliderStyleModel",
            "_model_module": "@jupyter-widgets/controls",
            "description_width": "",
            "_view_name": "StyleView",
            "_view_module": "@jupyter-widgets/base",
            "handle_color": null,
            "_view_count": null,
            "_model_module_version": "1.5.0"
          }
        },
        "b5f7cbf97fa04ae98f6b1085bb843bc9": {
          "model_module": "@jupyter-widgets/base",
          "model_name": "LayoutModel",
          "model_module_version": "1.2.0",
          "state": {
            "_view_module_version": "1.2.0",
            "_model_name": "LayoutModel",
            "grid_row": null,
            "_model_module": "@jupyter-widgets/base",
            "overflow": null,
            "max_height": null,
            "display": null,
            "grid_auto_flow": null,
            "grid_template_rows": null,
            "align_self": null,
            "grid_auto_columns": null,
            "width": null,
            "grid_area": null,
            "align_items": null,
            "_view_name": "LayoutView",
            "left": null,
            "height": null,
            "_view_module": "@jupyter-widgets/base",
            "object_position": null,
            "justify_content": null,
            "bottom": null,
            "max_width": null,
            "border": null,
            "margin": null,
            "order": null,
            "grid_column": null,
            "grid_auto_rows": null,
            "padding": null,
            "grid_template_columns": null,
            "justify_items": null,
            "object_fit": null,
            "visibility": null,
            "_view_count": null,
            "flex_flow": null,
            "min_height": null,
            "top": null,
            "min_width": null,
            "flex": null,
            "_model_module_version": "1.2.0",
            "grid_template_areas": null,
            "overflow_x": null,
            "right": null,
            "overflow_y": null,
            "grid_gap": null,
            "align_content": null
          }
        },
        "fe7f3152056a438484423d202025b178": {
          "model_module": "@jupyter-widgets/controls",
          "model_name": "IntSliderModel",
          "model_module_version": "1.5.0",
          "state": {
            "_view_module_version": "1.5.0",
            "description_tooltip": null,
            "_model_name": "IntSliderModel",
            "_model_module": "@jupyter-widgets/controls",
            "max": 100,
            "_view_name": "IntSliderView",
            "_view_module": "@jupyter-widgets/controls",
            "_dom_classes": [],
            "layout": "IPY_MODEL_dbd6de844b924a248cfdd89f00bed4d5",
            "step": 1,
            "orientation": "horizontal",
            "value": 73,
            "style": "IPY_MODEL_dad13e88947547b980edaf011eeb2454",
            "min": -100,
            "_view_count": null,
            "readout": true,
            "continuous_update": true,
            "_model_module_version": "1.5.0",
            "disabled": false,
            "description": "Brightness",
            "readout_format": "d"
          }
        },
        "71305927361142fcab4d34b6e41856b6": {
          "model_module": "@jupyter-widgets/base",
          "model_name": "LayoutModel",
          "model_module_version": "1.2.0",
          "state": {
            "_view_module_version": "1.2.0",
            "_model_name": "LayoutModel",
            "grid_row": null,
            "_model_module": "@jupyter-widgets/base",
            "overflow": null,
            "max_height": null,
            "display": null,
            "grid_auto_flow": null,
            "grid_template_rows": null,
            "align_self": null,
            "grid_auto_columns": null,
            "width": null,
            "grid_area": null,
            "align_items": null,
            "_view_name": "LayoutView",
            "left": null,
            "height": null,
            "_view_module": "@jupyter-widgets/base",
            "object_position": null,
            "justify_content": null,
            "bottom": null,
            "max_width": null,
            "border": null,
            "margin": null,
            "order": null,
            "grid_column": null,
            "grid_auto_rows": null,
            "padding": null,
            "grid_template_columns": null,
            "justify_items": null,
            "object_fit": null,
            "visibility": null,
            "_view_count": null,
            "flex_flow": null,
            "min_height": null,
            "top": null,
            "min_width": null,
            "flex": null,
            "_model_module_version": "1.2.0",
            "grid_template_areas": null,
            "overflow_x": null,
            "right": null,
            "overflow_y": null,
            "grid_gap": null,
            "align_content": null
          }
        },
        "dbd6de844b924a248cfdd89f00bed4d5": {
          "model_module": "@jupyter-widgets/base",
          "model_name": "LayoutModel",
          "model_module_version": "1.2.0",
          "state": {
            "_view_module_version": "1.2.0",
            "_model_name": "LayoutModel",
            "grid_row": null,
            "_model_module": "@jupyter-widgets/base",
            "overflow": null,
            "max_height": null,
            "display": null,
            "grid_auto_flow": null,
            "grid_template_rows": null,
            "align_self": null,
            "grid_auto_columns": null,
            "width": null,
            "grid_area": null,
            "align_items": null,
            "_view_name": "LayoutView",
            "left": null,
            "height": null,
            "_view_module": "@jupyter-widgets/base",
            "object_position": null,
            "justify_content": null,
            "bottom": null,
            "max_width": null,
            "border": null,
            "margin": null,
            "order": null,
            "grid_column": null,
            "grid_auto_rows": null,
            "padding": null,
            "grid_template_columns": null,
            "justify_items": null,
            "object_fit": null,
            "visibility": null,
            "_view_count": null,
            "flex_flow": null,
            "min_height": null,
            "top": null,
            "min_width": null,
            "flex": null,
            "_model_module_version": "1.2.0",
            "grid_template_areas": null,
            "overflow_x": null,
            "right": null,
            "overflow_y": null,
            "grid_gap": null,
            "align_content": null
          }
        },
        "10c33fa1c5b84dc98f6b3edf691f4cfc": {
          "model_module": "@jupyter-widgets/base",
          "model_name": "LayoutModel",
          "model_module_version": "1.2.0",
          "state": {
            "_view_module_version": "1.2.0",
            "_model_name": "LayoutModel",
            "grid_row": null,
            "_model_module": "@jupyter-widgets/base",
            "overflow": null,
            "max_height": null,
            "display": null,
            "grid_auto_flow": null,
            "grid_template_rows": null,
            "align_self": null,
            "grid_auto_columns": null,
            "width": null,
            "grid_area": null,
            "align_items": null,
            "_view_name": "LayoutView",
            "left": null,
            "height": null,
            "_view_module": "@jupyter-widgets/base",
            "object_position": null,
            "justify_content": null,
            "bottom": null,
            "max_width": null,
            "border": null,
            "margin": null,
            "order": null,
            "grid_column": null,
            "grid_auto_rows": null,
            "padding": null,
            "grid_template_columns": null,
            "justify_items": null,
            "object_fit": null,
            "visibility": null,
            "_view_count": null,
            "flex_flow": null,
            "min_height": null,
            "top": null,
            "min_width": null,
            "flex": null,
            "_model_module_version": "1.2.0",
            "grid_template_areas": null,
            "overflow_x": null,
            "right": null,
            "overflow_y": null,
            "grid_gap": null,
            "align_content": null
          }
        },
        "1b07e738d8524340ba910233a57d9359": {
          "model_module": "@jupyter-widgets/output",
          "model_name": "OutputModel",
          "model_module_version": "1.0.0",
          "state": {
            "_view_module_version": "1.0.0",
            "_model_name": "OutputModel",
            "_model_module": "@jupyter-widgets/output",
            "_view_name": "OutputView",
            "_view_module": "@jupyter-widgets/output",
            "_dom_classes": [],
            "layout": "IPY_MODEL_71305927361142fcab4d34b6e41856b6",
            "outputs": [
              {
                "output_type": "display_data",
                "data": {
                  "text/plain": "<Figure size 640x480 with 1 Axes>",
                  "image/png": "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\n"
                },
                "metadata": {}
              }
            ],
            "_view_count": null,
            "msg_id": "",
            "_model_module_version": "1.0.0"
          }
        },
        "d885140cd395448e82947ab44b60f3a0": {
          "model_module": "@jupyter-widgets/base",
          "model_name": "LayoutModel",
          "model_module_version": "1.2.0",
          "state": {
            "_view_module_version": "1.2.0",
            "_model_name": "LayoutModel",
            "grid_row": null,
            "_model_module": "@jupyter-widgets/base",
            "overflow": null,
            "max_height": null,
            "display": null,
            "grid_auto_flow": null,
            "grid_template_rows": null,
            "align_self": null,
            "grid_auto_columns": null,
            "width": null,
            "grid_area": null,
            "align_items": null,
            "_view_name": "LayoutView",
            "left": null,
            "height": null,
            "_view_module": "@jupyter-widgets/base",
            "object_position": null,
            "justify_content": null,
            "bottom": null,
            "max_width": null,
            "border": null,
            "margin": null,
            "order": null,
            "grid_column": null,
            "grid_auto_rows": null,
            "padding": null,
            "grid_template_columns": null,
            "justify_items": null,
            "object_fit": null,
            "visibility": null,
            "_view_count": null,
            "flex_flow": null,
            "min_height": null,
            "top": null,
            "min_width": null,
            "flex": null,
            "_model_module_version": "1.2.0",
            "grid_template_areas": null,
            "overflow_x": null,
            "right": null,
            "overflow_y": null,
            "grid_gap": null,
            "align_content": null
          }
        },
        "f392c3d8f1d54e749a9755d4fab77012": {
          "model_module": "@jupyter-widgets/controls",
          "model_name": "SliderStyleModel",
          "model_module_version": "1.5.0",
          "state": {
            "_view_module_version": "1.2.0",
            "_model_name": "SliderStyleModel",
            "_model_module": "@jupyter-widgets/controls",
            "description_width": "",
            "_view_name": "StyleView",
            "_view_module": "@jupyter-widgets/base",
            "handle_color": null,
            "_view_count": null,
            "_model_module_version": "1.5.0"
          }
        },
        "41d7c00b119f43719d22bbc0db6ce2d9": {
          "model_module": "@jupyter-widgets/controls",
          "model_name": "VBoxModel",
          "model_module_version": "1.5.0",
          "state": {
            "_view_module_version": "1.5.0",
            "_model_name": "VBoxModel",
            "_model_module": "@jupyter-widgets/controls",
            "_view_name": "VBoxView",
            "_view_module": "@jupyter-widgets/controls",
            "_dom_classes": [
              "widget-interact"
            ],
            "layout": "IPY_MODEL_f4c952961dd348738972a95d59937844",
            "_view_count": null,
            "_model_module_version": "1.5.0",
            "box_style": "",
            "children": [
              "IPY_MODEL_0e5d620b2dcd4405959587b32c181e31",
              "IPY_MODEL_6d6ff020f52b4e7cbf80d871ae72edfb",
              "IPY_MODEL_d40288c989e9467f826c0f3efb0a1d4a",
              "IPY_MODEL_fe7f3152056a438484423d202025b178",
              "IPY_MODEL_c33057191ad149c0956321b2a47f79b6",
              "IPY_MODEL_1b07e738d8524340ba910233a57d9359"
            ]
          }
        },
        "e14f4e11280e44e98af98091be884a12": {
          "model_module": "@jupyter-widgets/base",
          "model_name": "LayoutModel",
          "model_module_version": "1.2.0",
          "state": {
            "_view_module_version": "1.2.0",
            "_model_name": "LayoutModel",
            "grid_row": null,
            "_model_module": "@jupyter-widgets/base",
            "overflow": null,
            "max_height": null,
            "display": null,
            "grid_auto_flow": null,
            "grid_template_rows": null,
            "align_self": null,
            "grid_auto_columns": null,
            "width": null,
            "grid_area": null,
            "align_items": null,
            "_view_name": "LayoutView",
            "left": null,
            "height": null,
            "_view_module": "@jupyter-widgets/base",
            "object_position": null,
            "justify_content": null,
            "bottom": null,
            "max_width": null,
            "border": null,
            "margin": null,
            "order": null,
            "grid_column": null,
            "grid_auto_rows": null,
            "padding": null,
            "grid_template_columns": null,
            "justify_items": null,
            "object_fit": null,
            "visibility": null,
            "_view_count": null,
            "flex_flow": null,
            "min_height": null,
            "top": null,
            "min_width": null,
            "flex": null,
            "_model_module_version": "1.2.0",
            "grid_template_areas": null,
            "overflow_x": null,
            "right": null,
            "overflow_y": null,
            "grid_gap": null,
            "align_content": null
          }
        },
        "0e5d620b2dcd4405959587b32c181e31": {
          "model_module": "@jupyter-widgets/controls",
          "model_name": "FloatSliderModel",
          "model_module_version": "1.5.0",
          "state": {
            "_view_module_version": "1.5.0",
            "description_tooltip": null,
            "_model_name": "FloatSliderModel",
            "_model_module": "@jupyter-widgets/controls",
            "max": 2,
            "_view_name": "FloatSliderView",
            "_view_module": "@jupyter-widgets/controls",
            "_dom_classes": [],
            "layout": "IPY_MODEL_e14f4e11280e44e98af98091be884a12",
            "step": 0.1,
            "orientation": "horizontal",
            "value": 1,
            "style": "IPY_MODEL_b1b189a0a6444d2bbe70eab04742d1c7",
            "min": 0,
            "_view_count": null,
            "readout": true,
            "continuous_update": true,
            "_model_module_version": "1.5.0",
            "disabled": false,
            "description": "Red",
            "readout_format": ".2f"
          }
        },
        "437517600aed4fb1acf0e11122d5a4f9": {
          "model_module": "@jupyter-widgets/controls",
          "model_name": "SliderStyleModel",
          "model_module_version": "1.5.0",
          "state": {
            "_view_module_version": "1.2.0",
            "_model_name": "SliderStyleModel",
            "_model_module": "@jupyter-widgets/controls",
            "description_width": "",
            "_view_name": "StyleView",
            "_view_module": "@jupyter-widgets/base",
            "handle_color": null,
            "_view_count": null,
            "_model_module_version": "1.5.0"
          }
        },
        "dad13e88947547b980edaf011eeb2454": {
          "model_module": "@jupyter-widgets/controls",
          "model_name": "SliderStyleModel",
          "model_module_version": "1.5.0",
          "state": {
            "_view_module_version": "1.2.0",
            "_model_name": "SliderStyleModel",
            "_model_module": "@jupyter-widgets/controls",
            "description_width": "",
            "_view_name": "StyleView",
            "_view_module": "@jupyter-widgets/base",
            "handle_color": null,
            "_view_count": null,
            "_model_module_version": "1.5.0"
          }
        }
      }
    },
    "kernel_info": {
      "name": "python"
    },
    "nteract": {
      "version": "nteract-front-end@1.0.0"
    }
  },
  "nbformat": 4,
  "nbformat_minor": 5
}