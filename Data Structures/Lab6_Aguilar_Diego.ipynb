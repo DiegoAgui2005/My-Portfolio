{
  "cells": [
    {
      "cell_type": "markdown",
      "source": [
        "# Data Structures and Processing\n",
        "\n",
        "## Week 8: Data Wrangling with Pandas"
      ],
      "metadata": {
        "id": "9578795f-723e-46cc-b7f4-faed37e6858e"
      },
      "id": "9578795f-723e-46cc-b7f4-faed37e6858e"
    },
    {
      "cell_type": "markdown",
      "source": [
        "### Remarks:\n",
        "\n",
        "1. Press the `install requirements` button above to install the required packages.  See the `requirements.txt` for list of packages to be installed.\n",
        "\n",
        "2. Make sure that you are following the conventions.  For examples, `import pandas as pd`, which imports pandas packages and sets the abbreviation for it.\n",
        "\n",
        "3. Do not import the packages without the short names.  Doing so might lead to a namespace conflict, or unintended uses of functions coming from two libraries as a part of different implementations.\n",
        "\n",
        "4. We are assigning `None` to variables and use `pass` in the body of the functions, where we expect a solution from you.  Please replace these values and statements with your solution."
      ],
      "metadata": {
        "tags": [],
        "id": "e8b4d83d-aafa-4503-822b-25a9e318163f"
      },
      "id": "e8b4d83d-aafa-4503-822b-25a9e318163f"
    },
    {
      "cell_type": "markdown",
      "source": [
        "The exercises in this notebook are aligned with the material provided for the lecture."
      ],
      "metadata": {
        "id": "0c1d9d69-0a50-4804-93e5-113136c827ce"
      },
      "id": "0c1d9d69-0a50-4804-93e5-113136c827ce"
    },
    {
      "cell_type": "markdown",
      "source": [
        "### Load Libraries"
      ],
      "metadata": {
        "id": "b1aa9048-bfc7-4ee0-af22-fb0d78606569"
      },
      "id": "b1aa9048-bfc7-4ee0-af22-fb0d78606569"
    },
    {
      "cell_type": "code",
      "source": [
        "import numpy as np\n",
        "import pandas as pd"
      ],
      "outputs": [],
      "execution_count": 1,
      "metadata": {
        "tags": [],
        "id": "2512a105-8759-4def-90bd-37977472539a"
      },
      "id": "2512a105-8759-4def-90bd-37977472539a"
    },
    {
      "cell_type": "markdown",
      "source": [
        "## MultiIndex\n"
      ],
      "metadata": {
        "id": "e751bfb2-5db5-46d5-bd13-723193262db9"
      },
      "id": "e751bfb2-5db5-46d5-bd13-723193262db9"
    },
    {
      "cell_type": "markdown",
      "source": [
        "### Task 1 - 1 pt\n",
        "\n",
        "Consider the `json` file named `entertain.json`(attached) and read it into a variable `df1` using the function `pd.read_json`."
      ],
      "metadata": {
        "id": "ced24119-c44a-4e5d-b468-2e6a46103ef0"
      },
      "id": "ced24119-c44a-4e5d-b468-2e6a46103ef0"
    },
    {
      "cell_type": "code",
      "source": [
        "# Your solution goes here.\n",
        "df1 = pd.read_json(\"entertain.json\")\n",
        "print(df1.shape)\n",
        "\n"
      ],
      "outputs": [
        {
          "output_type": "stream",
          "name": "stdout",
          "text": [
            "(8, 6)\n"
          ]
        }
      ],
      "execution_count": 29,
      "metadata": {
        "colab": {
          "base_uri": "https://localhost:8080/"
        },
        "id": "59d21efa-49bb-4360-ab8e-78edc62a5e0a",
        "outputId": "5fe37222-5e24-45af-d9a2-9f4f928162bd"
      },
      "id": "59d21efa-49bb-4360-ab8e-78edc62a5e0a"
    },
    {
      "cell_type": "code",
      "source": [
        "assert df1.shape == (8, 6)"
      ],
      "outputs": [],
      "execution_count": 4,
      "metadata": {
        "id": "30355055"
      },
      "id": "30355055"
    },
    {
      "cell_type": "markdown",
      "source": [
        "### Task 2 - 1 pt\n",
        "\n",
        "We want to change the index of the imported `DataFrame`. More specifically, we would like to have two indexes.  The two indexes come from the columns named `\"rating\"` and `\"stars\"`.\n",
        "\n",
        "Define a new `DataFrame` by the name `df2` where `\"rating\"`and `\"stars\"` are indexes."
      ],
      "metadata": {
        "id": "51dbb8e8-81fd-4d49-9d4e-31502222b952"
      },
      "id": "51dbb8e8-81fd-4d49-9d4e-31502222b952"
    },
    {
      "cell_type": "code",
      "source": [
        "# Your solution goes here.\n",
        "df2 = df1.set_index([\"rating\", \"stars\"])\n",
        "print(df2.index[0])"
      ],
      "outputs": [
        {
          "output_type": "stream",
          "name": "stdout",
          "text": [
            "('PG-13', np.float64(7.5))\n"
          ]
        }
      ],
      "execution_count": 7,
      "metadata": {
        "colab": {
          "base_uri": "https://localhost:8080/"
        },
        "id": "c3105940-0c09-49e1-a5e0-55fc25aee127",
        "outputId": "b7ae767e-10dd-4d87-c139-6f42073ba959"
      },
      "id": "c3105940-0c09-49e1-a5e0-55fc25aee127"
    },
    {
      "cell_type": "code",
      "source": [
        "assert df2.index[0] == ('PG-13', 7.5)"
      ],
      "outputs": [],
      "execution_count": 8,
      "metadata": {
        "id": "abe7b7c7"
      },
      "id": "abe7b7c7"
    },
    {
      "cell_type": "markdown",
      "source": [
        "### Task 3 - 1 pt\n",
        "\n",
        "In the `DataFrame` named `df2`, defined above, we have two indexes: `\"rating\"` and `\"stars\"`, and *in this order*.  We want to change\n",
        "\n",
        "1. their order so that `\"stars\"` is the first index and `\"ratings\"` is the second one. You might want to use `swaplevel`.\n",
        "2. their case, i.e., make names of index columns upcase.\n",
        "\n",
        "Define a new `DataFrame` by the name `df3`, which is the same as `df2`, except that the indexes are swapped and they are in upcase form."
      ],
      "metadata": {
        "id": "49e7c316-a2fe-4a27-9cd0-5db6516642a1"
      },
      "id": "49e7c316-a2fe-4a27-9cd0-5db6516642a1"
    },
    {
      "cell_type": "code",
      "source": [
        "# Your solution goes here.\n",
        "df3 = df2.swaplevel().copy()\n",
        "df3.index.names = [\"STARS\", \"RATING\"]\n",
        "print(df3.index.names)"
      ],
      "outputs": [
        {
          "output_type": "stream",
          "name": "stdout",
          "text": [
            "['STARS', 'RATING']\n"
          ]
        }
      ],
      "execution_count": 12,
      "metadata": {
        "colab": {
          "base_uri": "https://localhost:8080/"
        },
        "id": "da147490-fae4-4c03-a7cb-3fb0c0b78ddf",
        "outputId": "c06121a2-6e87-40ae-cc8d-835169af7d40"
      },
      "id": "da147490-fae4-4c03-a7cb-3fb0c0b78ddf"
    },
    {
      "cell_type": "code",
      "source": [
        "assert df3.index.names == ['STARS', 'RATING']"
      ],
      "outputs": [],
      "execution_count": 13,
      "metadata": {
        "id": "31625872"
      },
      "id": "31625872"
    },
    {
      "cell_type": "markdown",
      "source": [
        "### Task 4 - 1 pt\n",
        "\n",
        "We have now data with two indexes. Let us say that we do not need this indexing, and furthermore, we would like to recover the data to a form where it was as it was imported into a `DataFrame`.  There are three ways to do it:\n",
        "\n",
        "1. One is to keep the data stored in a separate variable and define a new variable with the new indexes.  This might lead to a memory problem, when huge data is read into a `DataFrame`.\n",
        "\n",
        "2. Reread the data from the file into the desired variable again.\n",
        "\n",
        "3. Use the builtin function for reseting indexing in `pandas`.\n",
        "\n",
        "Use the third method above to reset index of the data stored in `df3` and put it in variable `df4` (we do not desire to modify the existing variable)."
      ],
      "metadata": {
        "id": "ab359708-3e86-4be5-9fb9-0daa8cf3f3f1"
      },
      "id": "ab359708-3e86-4be5-9fb9-0daa8cf3f3f1"
    },
    {
      "cell_type": "code",
      "source": [
        "# Your Solution Goes here\n",
        "df4 = df3.reset_index()\n",
        "print(len(df4.columns))"
      ],
      "outputs": [
        {
          "output_type": "stream",
          "name": "stdout",
          "text": [
            "6\n"
          ]
        }
      ],
      "execution_count": 14,
      "metadata": {
        "colab": {
          "base_uri": "https://localhost:8080/"
        },
        "id": "e84ab6fd-78c5-447f-91ba-43f8a2f6cf39",
        "outputId": "37db2f33-aae5-4b1f-f5fc-a0af573bacbd"
      },
      "id": "e84ab6fd-78c5-447f-91ba-43f8a2f6cf39"
    },
    {
      "cell_type": "code",
      "source": [
        "assert len(df4.columns) == 6"
      ],
      "outputs": [],
      "execution_count": 15,
      "metadata": {
        "id": "9e54fb62-fe1e-4b68-8430-272893ad3da5"
      },
      "id": "9e54fb62-fe1e-4b68-8430-272893ad3da5"
    },
    {
      "cell_type": "markdown",
      "source": [
        "### Task 5 - 1 pt\n",
        "\n",
        "Recall from the beginning of this set of exercises that we have imported data from a `json` file.  The data that is in hierarchical form is usually stored in this format.  There are other ways to store such data too, for example as an `xml` format, to name only another one beside `json`.  You might have noticed as we have imported the data that it was presented in a tabular format, and it was done by assigning some `NaN` value to some of the entries, because the corresponding values were missing.  For example, the `\"Quiz Show\"` has `\"genre\"` `NaN`.  Compare it with the json file, where `\"Quiz Show\"`, does not have any value for `\"genre\"`.\n",
        "\n",
        "Recall that in `pandas`, tabular data can be converted into a hierarchical data using the `stack()` method.\n",
        "\n",
        "Create a new `DataFrame`, called `df5`, from `df3` and use the method `stack()` to present it in hierarchical form."
      ],
      "metadata": {
        "id": "df1c5c2c-a4c0-4bda-b2de-b2494628aa25"
      },
      "id": "df1c5c2c-a4c0-4bda-b2de-b2494628aa25"
    },
    {
      "cell_type": "code",
      "source": [
        "# Your solution goes here.\n",
        "df5 = df3.stack()\n",
        "print(df5.index[0])"
      ],
      "outputs": [
        {
          "output_type": "stream",
          "name": "stdout",
          "text": [
            "(np.float64(7.5), 'PG-13', 'title')\n"
          ]
        }
      ],
      "execution_count": 17,
      "metadata": {
        "colab": {
          "base_uri": "https://localhost:8080/"
        },
        "id": "99da9a55-d4d4-4905-9fb6-e2377cd66bac",
        "outputId": "114ceff3-744f-439f-be77-9f16f1071be7"
      },
      "id": "99da9a55-d4d4-4905-9fb6-e2377cd66bac"
    },
    {
      "cell_type": "code",
      "source": [
        "assert df5.index[0] == (7.5, 'PG-13', 'title')"
      ],
      "outputs": [],
      "execution_count": 18,
      "metadata": {
        "id": "ae43fadc-146b-4edd-a585-eef99710c26e"
      },
      "id": "ae43fadc-146b-4edd-a585-eef99710c26e"
    },
    {
      "cell_type": "markdown",
      "source": [
        "### Task 6 - 1 pt\n",
        "\n",
        "Consider the hierarchical `DataFrame` `df5`, and filter it down to all the entries with `\"rating\"` `\"PG-13\"`.  Store the result in the variable `df6`."
      ],
      "metadata": {
        "id": "f477cef0-cbdb-40e4-bc2f-79f3ca64ab2c"
      },
      "id": "f477cef0-cbdb-40e4-bc2f-79f3ca64ab2c"
    },
    {
      "cell_type": "code",
      "source": [
        "# Your solution goes here.\n",
        "df6 = df5.xs(\"PG-13\", level=1)\n",
        "print(len(df6))"
      ],
      "outputs": [
        {
          "output_type": "stream",
          "name": "stdout",
          "text": [
            "11\n"
          ]
        }
      ],
      "execution_count": 19,
      "metadata": {
        "colab": {
          "base_uri": "https://localhost:8080/"
        },
        "id": "b03ce08a-9db5-4bf3-b808-6963067ca5cf",
        "outputId": "079aded8-f34e-47e3-aa61-d9219c2749d5"
      },
      "id": "b03ce08a-9db5-4bf3-b808-6963067ca5cf"
    },
    {
      "cell_type": "code",
      "source": [
        "assert len(df6) == 11\n"
      ],
      "outputs": [
        {
          "output_type": "stream",
          "name": "stdout",
          "text": [
            "   stars                     title rating  duration  \\\n",
            "0    7.5                 Quiz Show  PG-13       133   \n",
            "1    7.6                    Batman  PG-13       126   \n",
            "2    8.2   The Wolf of Wall Street      R       180   \n",
            "3    8.1                      Jaws     PG       124   \n",
            "4    7.8             Belle de Jour    NaN       101   \n",
            "5    7.8        As Good as It Gets  PG-13       139   \n",
            "6    8.4               Toy Story 3      G       103   \n",
            "7    7.4  Manhattan Murder Mystery     PG       104   \n",
            "\n",
            "                                            actors      genre  \n",
            "0       [Ralph Fiennes, John Turturro, Rob Morrow]        NaN  \n",
            "1   [Michael Keaton, Jack Nicholson, Kim Basinger]     Action  \n",
            "2   [Leonardo DiCaprio, Jonah Hill, Margot Robbie]  Biography  \n",
            "3    [Roy Scheider, Robert Shaw, Richard Dreyfuss]      Drama  \n",
            "4  [Catherine Deneuve, Jean Sorel, Michel Piccoli]      Drama  \n",
            "5       [Jack Nicholson, Helen Hunt, Greg Kinnear]     Comedy  \n",
            "6              [Tom Hanks, Tim Allen, Joan Cusack]  Animation  \n",
            "7         [Woody Allen, Diane Keaton, Jerry Adler]     Comedy  \n"
          ]
        }
      ],
      "execution_count": 30,
      "metadata": {
        "colab": {
          "base_uri": "https://localhost:8080/"
        },
        "id": "52ba3df1",
        "outputId": "e3783dd2-4ee1-4d80-a322-86879bf0d99e"
      },
      "id": "52ba3df1"
    },
    {
      "cell_type": "markdown",
      "source": [
        "### Task 7 - 1 pt\n",
        "\n",
        "Let us consider a case, where we are given two `DataFrame`s with `MultiIndex`, we would like to merge them using a column as a reference.  There are several different functions available in `pandas` for such a purpose.\n",
        "\n",
        "Let us define two variable `df71` and `df72`.  These `DataFrame`s help us demonstrate what is stated above.  In practice, the two `DataFrame`s may come from different sources unlike how we have defined them.\n",
        "\n",
        "Define a variable `df7`, which contains a merge of `df71` and `df72` on the column `\"title\"`.  Make sure that the returned table has the `MultiIndex` inherited and it is not stripped away. You can do in by resetting index and setting it back after merge or by using `combine_first` function."
      ],
      "metadata": {
        "id": "402f7784-4b30-433c-9069-2bb2e33fbb62"
      },
      "id": "402f7784-4b30-433c-9069-2bb2e33fbb62"
    },
    {
      "cell_type": "code",
      "source": [
        "df2_reset = df2.reset_index()\n",
        "\n",
        "df71 = df2_reset[[\"rating\", \"stars\", \"title\", \"duration\"]]\n",
        "df72 = df2_reset[[\"genre\", \"title\"]]\n",
        "\n",
        "merged = pd.merge(df71, df72, on=\"title\")\n",
        "\n",
        "df7 = merged.set_index([\"rating\", \"stars\"])\n",
        "\n",
        "\n",
        "print(df7.index.names)\n",
        "print(df7.shape)\n"
      ],
      "outputs": [
        {
          "output_type": "stream",
          "name": "stdout",
          "text": [
            "['rating', 'stars']\n",
            "(8, 3)\n"
          ]
        }
      ],
      "execution_count": 35,
      "metadata": {
        "colab": {
          "base_uri": "https://localhost:8080/"
        },
        "id": "4cb24d52-daef-420b-84c8-608df97cf04d",
        "outputId": "2348c72d-7757-4483-8046-899c21d7b62f"
      },
      "id": "4cb24d52-daef-420b-84c8-608df97cf04d"
    },
    {
      "cell_type": "code",
      "source": [
        "assert df7.index.names == ['rating', 'stars']\n",
        "assert df7.shape == (8, 3)"
      ],
      "outputs": [],
      "execution_count": 34,
      "metadata": {
        "id": "bf52222d"
      },
      "id": "bf52222d"
    },
    {
      "cell_type": "markdown",
      "source": [
        "### Task 8 - 3 pts\n",
        "\n",
        "Imagine you're a data analyst for the city transportation department. You've been given a taxi trip dataset (taxi.csv) containing information about pickup/dropoff times, passenger counts, and trip distances. Your task is to transform this data to analyze travel distance patterns by hour of day and passenger count.\n",
        "Follow these steps:\n",
        "\n",
        "1) Load the taxi data from the CSV file\n",
        "\n",
        "2) Extract just the hour from the pickup_datetime column (hint: use pd.to_datetime() and .dt.hour)\n",
        "\n",
        "3) Use pivot_table() to create a table showing the average trip distance based on:\n",
        " - Rows: Hour of pickup (0-23)\n",
        " - Columns: Number of passengers\n",
        "\n",
        "\n",
        "4) Comment on what time of the day the largest amount of 3 passenger rides happen.\n"
      ],
      "metadata": {
        "id": "2e5462d5-80cc-440a-aace-6f3b4f5b9629"
      },
      "id": "2e5462d5-80cc-440a-aace-6f3b4f5b9629"
    },
    {
      "cell_type": "code",
      "source": [
        "taxi = pd.read_csv(\"taxi (1).csv\")\n",
        "print(taxi.head())\n",
        "\n",
        "taxi[\"pickup_datetime\"] = pd.to_datetime(taxi[\"pickup_datetime\"])\n",
        "taxi[\"hour\"] = taxi[\"pickup_datetime\"].dt.hour\n",
        "\n",
        "pivot = taxi.pivot_table(\n",
        "    index= \"hour\",\n",
        "    columns =\"passenger_count\",\n",
        "    values = \"trip_distance\",\n",
        "    aggfunc=\"mean\"\n",
        ")\n",
        "\n",
        "print(pivot)\n",
        "\n",
        "#Based on the pivot table, the highest number of 3-passenger rides occurs around 18:00 (6 PM).\n",
        "#This likely corresponds to the evening rush hour, when people are commuting back home or going out,\n",
        "#which results in more shared rides. Transportation services could consider increasing fleet availability\n",
        "#during this time to meet demand.\n",
        "\n",
        "\n",
        "\n"
      ],
      "outputs": [
        {
          "output_type": "stream",
          "name": "stdout",
          "text": [
            "       pickup_datetime     dropoff_datetime  passenger_count  trip_distance\n",
            "0  2023-01-01 00:26:10  2023-01-01 00:37:11                1           2.58\n",
            "1  2023-01-01 00:51:03  2023-01-01 00:57:49                1           1.81\n",
            "2  2023-01-01 00:35:12  2023-01-01 00:41:32                1           0.00\n",
            "3  2023-01-01 00:13:14  2023-01-01 00:19:03                1           1.30\n",
            "4  2023-01-01 00:33:04  2023-01-01 00:39:02                1           1.10\n",
            "passenger_count    0         1         2       3         4       5         6\n",
            "hour                                                                        \n",
            "0                NaN  3.387021  4.215000   3.535  4.145000  3.9775  1.050000\n",
            "1                0.0  3.561429  4.125000     NaN       NaN  1.1825       NaN\n",
            "2                NaN  2.746122  3.394000   0.000       NaN  1.4800  3.076667\n",
            "3                NaN  2.364091  3.116667   4.230  0.030000  2.0000       NaN\n",
            "4                1.3  3.956818  7.306667   5.950       NaN  3.6100       NaN\n",
            "5                NaN  3.664000       NaN   3.085       NaN  1.9100       NaN\n",
            "6                NaN  2.192857  7.630000     NaN       NaN     NaN       NaN\n",
            "7                NaN  4.419375  6.236667     NaN       NaN  2.1300       NaN\n",
            "8                NaN  3.405500  0.020000     NaN       NaN  0.6950       NaN\n",
            "9                NaN  2.333243       NaN     NaN       NaN  0.9500       NaN\n",
            "10               NaN  3.110000  4.100000   2.660       NaN  1.6150  4.580000\n",
            "11               1.2  3.267636  2.875000   1.405       NaN  2.4200  2.280000\n",
            "12               2.3  2.349107  1.340000   0.900       NaN     NaN  1.520000\n",
            "13               NaN  2.935614  7.852000   6.680  6.736667     NaN  1.930000\n",
            "14               2.9  3.435932  1.027500     NaN  4.100000     NaN  3.770000\n",
            "15               8.8  2.614400  3.815000     NaN       NaN  3.6000  1.635000\n",
            "16               3.4  2.215897  2.376250  14.810  0.900000     NaN  1.740000\n",
            "17               NaN  2.694167  2.210000   3.825       NaN     NaN  3.886667\n",
            "18               NaN  2.015600  3.167500     NaN  5.480000  7.7200  1.450000\n",
            "19               NaN  2.720000       NaN     NaN       NaN     NaN       NaN\n"
          ]
        }
      ],
      "execution_count": 39,
      "metadata": {
        "colab": {
          "base_uri": "https://localhost:8080/"
        },
        "id": "336b8a31-7744-4f8b-ac85-36e6b751aad9",
        "outputId": "47101d76-7e91-4bb3-fa78-1ee9727436c7"
      },
      "id": "336b8a31-7744-4f8b-ac85-36e6b751aad9"
    },
    {
      "cell_type": "code",
      "source": [],
      "metadata": {
        "id": "mm2bdad-XjYc"
      },
      "id": "mm2bdad-XjYc",
      "execution_count": null,
      "outputs": []
    }
  ],
  "metadata": {
    "kernelspec": {
      "name": "python",
      "language": "python",
      "display_name": "Pyolite (preview)"
    },
    "language_info": {
      "codemirror_mode": {
        "name": "python",
        "version": 3
      },
      "file_extension": ".py",
      "mimetype": "text/x-python",
      "name": "python",
      "nbconvert_exporter": "python",
      "pygments_lexer": "ipython3",
      "version": "3.8"
    },
    "name": "week8.ipynb",
    "kernel_info": {
      "name": "python"
    },
    "nteract": {
      "version": "nteract-front-end@1.0.0"
    },
    "colab": {
      "provenance": []
    }
  },
  "nbformat": 4,
  "nbformat_minor": 5
}